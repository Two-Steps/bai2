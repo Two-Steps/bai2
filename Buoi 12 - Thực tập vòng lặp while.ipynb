{
 "cells": [
  {
   "cell_type": "markdown",
   "id": "1f7be993",
   "metadata": {},
   "source": [
    "# Thực tập vòng lặp While\n",
    "\n",
    "### Bài 1\n",
    "\n",
    "Nhập vào số a, sử dụng lệnh while (không sử dụng break và for) để xác định xem số đó có phải là số nguyên tố hay không"
   ]
  },
  {
   "cell_type": "code",
   "execution_count": 4,
   "id": "8cb73965",
   "metadata": {},
   "outputs": [
    {
     "name": "stdout",
     "output_type": "stream",
     "text": [
      "Nhập vào số a: 1\n",
      "1.0 không phải là số nguyên tố\n"
     ]
    }
   ],
   "source": [
    "a = float(input('Nhập vào số a: '))\n",
    "check = True\n",
    "if (int(a)) <= 1 or int(a) % 1 != 0:\n",
    "    print(str(a) + ' không phải là số nguyên tố')\n",
    "elif int(a) == 2:\n",
    "    print(str(a) + ' là số nguyên tố')\n",
    "else:\n",
    "    i = 2\n",
    "    while i < int(a):\n",
    "        check = int(a) % i != 0 and check\n",
    "        i += 1\n",
    "    if check:\n",
    "        print(str(a) + ' là số nguyên tố')\n",
    "    else:\n",
    "        print(str(a) + ' không phải là số nguyên tố')"
   ]
  },
  {
   "cell_type": "markdown",
   "id": "9f2357ca",
   "metadata": {},
   "source": [
    "### Bài 2\n",
    "\n",
    "Hãy sử dụng lệnh while lập trình cho bài đoán số ở buổi thứ 9"
   ]
  },
  {
   "cell_type": "code",
   "execution_count": 9,
   "id": "db79cb9d",
   "metadata": {},
   "outputs": [
    {
     "name": "stdout",
     "output_type": "stream",
     "text": [
      "0\n"
     ]
    }
   ],
   "source": [
    "# Lập trình chương trình đoán số như sau:\n",
    "# Người chơi nghĩ ra 1 số bất kỳ (từ 0 đến 100)\n",
    "# Máy tính sẽ tiến hành đoán số, mỗi lần máy tính đoán 1 số, người chơi hãy trả lời chính xác 1 trong 3 câu trả lời: \n",
    "#lớn hơn, bé hơn hoặc bằng số người chơi nghĩ trong đầu\n",
    "# Sau tối đa 7 lần đoán, máy phải đoán đúng số mà người chơi đã nghĩ"
   ]
  },
  {
   "cell_type": "code",
   "execution_count": 2,
   "id": "b815f417",
   "metadata": {},
   "outputs": [
    {
     "name": "stdout",
     "output_type": "stream",
     "text": [
      "Số máy đoán: 50\n",
      "Vui lòng trả lời kết quả đoán của máy tính bằng cách nhập: < = >: <\n",
      "Số máy đoán: 75\n",
      "Vui lòng trả lời kết quả đoán của máy tính bằng cách nhập: < = >: <\n",
      "Số máy đoán: 88\n",
      "Vui lòng trả lời kết quả đoán của máy tính bằng cách nhập: < = >: <\n",
      "Số máy đoán: 94\n",
      "Vui lòng trả lời kết quả đoán của máy tính bằng cách nhập: < = >: <\n",
      "Số máy đoán: 97\n",
      "Vui lòng trả lời kết quả đoán của máy tính bằng cách nhập: < = >: <\n",
      "Số máy đoán: 99\n",
      "Vui lòng trả lời kết quả đoán của máy tính bằng cách nhập: < = >: =\n",
      "Số đoán đúng là: 99\n",
      "Máy đoán đúng sau 6 lần đoán!\n"
     ]
    }
   ],
   "source": [
    "ngduoi = 0\n",
    "ngtren = 100\n",
    "sodoan = (ngtren + ngduoi)//2\n",
    "i = 0\n",
    "landoan = 1\n",
    "print('Số máy đoán:',sodoan)\n",
    "kq = input('Vui lòng trả lời kết quả đoán của máy tính bằng cách nhập: < = >: ')\n",
    "while i < 7 and kq != '=':\n",
    "    if kq == '<':\n",
    "        ngduoi = sodoan + 1\n",
    "    elif kq == '>':\n",
    "        ngtren = sodoan - 1\n",
    "    sodoan = (ngtren + ngduoi)//2\n",
    "    print('Số máy đoán:',sodoan)\n",
    "    kq = input('Vui lòng trả lời kết quả đoán của máy tính bằng cách nhập: < = >: ')\n",
    "    i += 1\n",
    "    landoan += 1\n",
    "print('Số đoán đúng là:',sodoan)\n",
    "print('Máy đoán đúng sau ' + str(landoan) + ' lần đoán!')"
   ]
  },
  {
   "cell_type": "markdown",
   "id": "58f5b789",
   "metadata": {},
   "source": [
    "### Bài 3\n",
    "\n",
    "Nhập vào số a, hãy đếm a có bao nhiêu chữ số chẵn, bao nhiêu cữ số lẻ\n",
    "\n",
    "#### Cách 1 (dùng chuỗi):"
   ]
  },
  {
   "cell_type": "code",
   "execution_count": 6,
   "id": "e7f9da21",
   "metadata": {},
   "outputs": [
    {
     "name": "stdout",
     "output_type": "stream",
     "text": [
      "Nhập vào số a: 123456789.987665\n",
      "Số chữ số lẻ: 8\n",
      "Số chữ số chẵn: 7\n"
     ]
    }
   ],
   "source": [
    "a = input('Nhập vào số a: ')\n",
    "le = a.count('1') + a.count('3') + a.count('5') + a.count('7') + a.count('9')\n",
    "chan = a.count('0') + a.count('2') + a.count('4') + a.count('6') + a.count('8') \n",
    "print('Số chữ số lẻ:',le)\n",
    "print('Số chữ số chẵn:',chan)"
   ]
  },
  {
   "cell_type": "markdown",
   "id": "9a3d9703",
   "metadata": {},
   "source": [
    "#### Cách 2 (không dùng chuỗi):"
   ]
  },
  {
   "cell_type": "code",
   "execution_count": null,
   "id": "d4e474c8",
   "metadata": {},
   "outputs": [],
   "source": []
  },
  {
   "cell_type": "markdown",
   "id": "69539ece",
   "metadata": {},
   "source": [
    "### Bài 4\n",
    "\n",
    "Nhập vào số a, hãy tính tổng các chữ số nguyên tố của a"
   ]
  },
  {
   "cell_type": "code",
   "execution_count": 10,
   "id": "f001bd9a",
   "metadata": {},
   "outputs": [
    {
     "name": "stdout",
     "output_type": "stream",
     "text": [
      "Nhập vào số a: 23684.64\n",
      "Tổng các chữ số nguyên tố của a là: 5\n"
     ]
    }
   ],
   "source": [
    "a = input('Nhập vào số a: ')\n",
    "# số nguyên tố trong khoảng từ 0 đến 9 là : 2 3 5 7\n",
    "S = 0\n",
    "i = 1\n",
    "S += a.count('2') * 2 + a.count('3') * 3 + a.count('5') * 5 + a.count('7')*7\n",
    "print('Tổng các chữ số nguyên tố của a là:',S)"
   ]
  },
  {
   "cell_type": "markdown",
   "id": "0a5075a4",
   "metadata": {},
   "source": [
    "### Bài 5\n",
    "\n",
    "Số armstrong là số có tổng của các chữ số mũ số lượng chữ số bằng chính nó\n",
    "\n",
    "Ví dụ\n",
    "\n",
    "Số 371 là một số armstrong vì:\n",
    "\n",
    "371 = 3^3 + 7^3 + 1^3 (3 là số lượng chữ số của 371)\n",
    "\n",
    "Số 1634 là một số armstrong vì:\n",
    "\n",
    "1634 = 1^4 + 6^4 + 3^4 + 4^4 (4 là số lượng chữ số của 1634)\n",
    "\n",
    "Nhập vào số a, kiểm tra xem a có phải là số armstrong không"
   ]
  },
  {
   "cell_type": "code",
   "execution_count": 18,
   "id": "b9ed54a5",
   "metadata": {},
   "outputs": [
    {
     "name": "stdout",
     "output_type": "stream",
     "text": [
      "Nhập vào số a: 2564\n",
      "2564 không là số armstrong\n"
     ]
    }
   ],
   "source": [
    "a = input('Nhập vào số a: ')\n",
    "length = len(a)\n",
    "S = 0\n",
    "i = 0\n",
    "while i < length:\n",
    "    S += int(a[i]) ** length \n",
    "    i += 1\n",
    "if S == int(a):\n",
    "    print(a,'là số armstrong')\n",
    "else:\n",
    "    print(a,'không là số armstrong')"
   ]
  },
  {
   "cell_type": "markdown",
   "id": "f8a584d3",
   "metadata": {},
   "source": [
    "### Bài 6\n",
    "\n",
    "Dãy số fibonacci là dãy số được định nghĩa như sau: 1, 1, 2, 3, 5, 8, 13,... với số kế tiếp sẽ bằng tổng hai số trước đó\n",
    "\n",
    "Nhập vào A, hãy tìm số trong dãy số fibonacci lớn nhất nhưng không vượt quá A"
   ]
  },
  {
   "cell_type": "code",
   "execution_count": 4,
   "id": "3ad4d85b",
   "metadata": {},
   "outputs": [
    {
     "name": "stdout",
     "output_type": "stream",
     "text": [
      "Nhập vào số a: 14\n",
      "So fobonacci can tim: 13\n"
     ]
    }
   ],
   "source": [
    "a = int(input('Nhập vào số a: '))\n",
    "i = 1\n",
    "j = 1\n",
    "S = i + j\n",
    "while True:\n",
    "    i = j\n",
    "    j = S\n",
    "    S = i + j\n",
    "    if S >= a:\n",
    "        break\n",
    "print('So fobonacci can tim:',j)"
   ]
  },
  {
   "cell_type": "code",
   "execution_count": null,
   "id": "8f7806b1",
   "metadata": {},
   "outputs": [],
   "source": []
  },
  {
   "cell_type": "markdown",
   "id": "9fa794f2",
   "metadata": {},
   "source": [
    "### Bài 7\n",
    "\n",
    "Nhập vào A, tìm n nhỏ nhất sao cho\n",
    "\n",
    "1 + 1/2 + 1/3 + 1/4 + ... + 1/n > A"
   ]
  },
  {
   "cell_type": "code",
   "execution_count": 2,
   "id": "246ec002",
   "metadata": {},
   "outputs": [
    {
     "name": "stdout",
     "output_type": "stream",
     "text": [
      "Nhập vào số A: 1\n",
      "n nhỏ nhất là: 2\n"
     ]
    }
   ],
   "source": [
    "A = float(input('Nhập vào số A: '))\n",
    "i = 1\n",
    "S = 0\n",
    "while S <= A:\n",
    "    S += 1 / i\n",
    "    i += 1\n",
    "print('n nhỏ nhất là:',i - 1)"
   ]
  },
  {
   "cell_type": "markdown",
   "id": "c5fd4d8a",
   "metadata": {},
   "source": [
    "### Bài 8\n",
    "\n",
    "Nhập vào a và b là số nguyên dương (b có một chữ số, nhập sai yêu cầu nhập lại), hãy tìm vị trí đầu tiên (bắt đầu từ bên trái) của b trong a, nếu không tìm thấy thì in kết quả là 0 (ví trí đầu bắt đầu từ 1)\n",
    "\n",
    "<b>Ví dụ:</b>\n",
    "\n",
    "<b>Nhập:</b>\n",
    "- a = 125785\n",
    "- b = 5\n",
    "\n",
    "<b>Kết quả:</b> 3 (do số 5 nằm ở vị trí 3)"
   ]
  },
  {
   "cell_type": "code",
   "execution_count": 7,
   "id": "9edf35ac",
   "metadata": {},
   "outputs": [
    {
     "name": "stdout",
     "output_type": "stream",
     "text": [
      "Nhập vào số nguyên dương a: 125785\n",
      "Nhập vào số nguyên dương b (b có một chữ số): 5\n",
      "3\n"
     ]
    }
   ],
   "source": [
    "a = input('Nhập vào số nguyên dương a: ')\n",
    "b = input('Nhập vào số nguyên dương b (b có một chữ số): ')\n",
    "while len(b) != 1:\n",
    "    b = input('Nhập vào số nguyên dương b (b có một chữ số): ')\n",
    "vi_tri = a.find(b)\n",
    "print(vi_tri + 1)"
   ]
  }
 ],
 "metadata": {
  "kernelspec": {
   "display_name": "Python 3 (ipykernel)",
   "language": "python",
   "name": "python3"
  },
  "language_info": {
   "codemirror_mode": {
    "name": "ipython",
    "version": 3
   },
   "file_extension": ".py",
   "mimetype": "text/x-python",
   "name": "python",
   "nbconvert_exporter": "python",
   "pygments_lexer": "ipython3",
   "version": "3.10.4"
  }
 },
 "nbformat": 4,
 "nbformat_minor": 5
}
