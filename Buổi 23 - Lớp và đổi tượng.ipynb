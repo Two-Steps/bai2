{
 "cells": [
  {
   "cell_type": "markdown",
   "id": "1c805421",
   "metadata": {},
   "source": [
    "# Lớp và đối tượng\n",
    "\n",
    "### Lớp (class) là gì?\n",
    "\n",
    "Lớp (Class) là tập hợp tất cả các đối tượng có chung các thuộc tính và hành vi."
   ]
  },
  {
   "cell_type": "markdown",
   "id": "812bf15e",
   "metadata": {},
   "source": [
    "### Khai báo lớp\n",
    "\n",
    "`class <tên lớp>:\n",
    "    <khai báo biến>\n",
    "    <khai báo hàm>`\n",
    "    \n",
    "Ví dụ:\n",
    "\n",
    "`class giangvien:\n",
    "    ten = \"Nguyễn Tâm Điền\"\n",
    "    mon = \"Python căn bản\"\n",
    "    def inten(self):\n",
    "        print(self.ten)        \n",
    "dien = giangvien()\n",
    "print(dien.mon)\n",
    "dien.inten()`\n",
    "\n",
    "##### Lưu ý:\n",
    "\n",
    "- giangvien là 1 lớp\n",
    "- dien là 1 đối tượng có tất cả thuộc tính (có biến ten, mon và hàm inten) của lớp giangvien\n",
    "- inten là 1 hàm trong lớp giangvien\n",
    "- dien.mon là 1 biến trong đối tượng dien\n",
    "- dien.inten() là cách để gọi hàm inten trong đối tượng dien\n",
    "\n",
    "\n",
    "<b> Hãy chạy thử đoạn lệnh ở ví dụ: </b>"
   ]
  },
  {
   "cell_type": "code",
   "execution_count": null,
   "id": "40598ff8",
   "metadata": {},
   "outputs": [],
   "source": []
  },
  {
   "cell_type": "markdown",
   "id": "6c4daedf",
   "metadata": {},
   "source": [
    "<b> Hãy tạo 1 class hocvien với 1 biến và 1 def giúp in giá trị biến đó ra màn hình </b>"
   ]
  },
  {
   "cell_type": "code",
   "execution_count": 1,
   "id": "5358318d",
   "metadata": {},
   "outputs": [
    {
     "name": "stdout",
     "output_type": "stream",
     "text": [
      "twoSteps\n"
     ]
    }
   ],
   "source": [
    "class hocvien:\n",
    "    ten = 'twoSteps'\n",
    "    def info(self):\n",
    "        print(self.ten)\n",
    "\n",
    "a = hocvien()\n",
    "a.info()\n"
   ]
  },
  {
   "cell_type": "markdown",
   "id": "b2481280",
   "metadata": {},
   "source": [
    "### Tham số self\n",
    "\n",
    "Tham số self là tham số được sử dụng khi khai báo các hàm trong lớp\n",
    "\n",
    "Tham số self miêu tả chính lớp ta đang xây dựng, giúp chúng ta sử dụng được những biến và hàm của lớp đó\n",
    "\n",
    "Ví dụ:\n",
    "\n",
    "`class giangvien:\n",
    "    ten = \"Nguyễn Tâm Điền\"\n",
    "    mon = \"Python căn bản\"\n",
    "    def doiten(self,ten):\n",
    "        self.ten = ten\n",
    "    def inten(self):\n",
    "        print(self.ten)        \n",
    "dien = giangvien()\n",
    "dien.doiten(\"NTD\")\n",
    "dien.inten()`\n",
    "\n",
    "Sau khi thực hiện đoạn code trên, giá trị của biến ten trong đối tượng dien đã bị thay đổi thành \"NTD\"\n",
    "\n",
    "<b> Hãy chạy thử đoạn lệnh ở ví dụ: </b>"
   ]
  },
  {
   "cell_type": "code",
   "execution_count": 3,
   "id": "fd2f5d7c",
   "metadata": {},
   "outputs": [
    {
     "name": "stdout",
     "output_type": "stream",
     "text": [
      "Môn: Python căn bản\n"
     ]
    }
   ],
   "source": [
    "class giangvien: ## là khuôn mẫu cho đối tượng\n",
    "    ten = \"Nguyễn Tâm Điền\"\n",
    "    mon = \"Python căn bản\"\n",
    "    def inten(self): ## đây là hành vi (hàm)\n",
    "        print(self.ten)\n",
    "    def inmon(self):\n",
    "        print('Môn:',self.mon, sep = ' ')\n",
    "\n",
    "dien = giangvien()\n",
    "dien.inmon()\n"
   ]
  },
  {
   "cell_type": "markdown",
   "id": "4dfd8d1d",
   "metadata": {},
   "source": [
    "<b> Hãy thêm 1 def vào class hocvien giúp thay đổi giá trị biến bất kỳ trong class </b>"
   ]
  },
  {
   "cell_type": "code",
   "execution_count": 2,
   "id": "98d911c0",
   "metadata": {},
   "outputs": [
    {
     "name": "stdout",
     "output_type": "stream",
     "text": [
      "Tùng\n"
     ]
    }
   ],
   "source": [
    "class hocvien:\n",
    "    ten = 'twoSteps'\n",
    "    def changed(self, tenmoi):\n",
    "        self.ten = tenmoi\n",
    "    def info(self):\n",
    "        print(self.ten)\n",
    "    \n",
    "a = hocvien()\n",
    "a.changed('Tùng')\n",
    "a.info()"
   ]
  },
  {
   "cell_type": "code",
   "execution_count": 11,
   "id": "92abcb93",
   "metadata": {},
   "outputs": [
    {
     "name": "stdout",
     "output_type": "stream",
     "text": [
      "Tên:  twoSteps\n",
      "Điểm:  9\n",
      "Tên:  twoSteps\n",
      "Điểm:  9\n"
     ]
    }
   ],
   "source": [
    "## tạo class hocvien có:\n",
    "## 2 thuộc tính: ten, diem\n",
    "## 1 hành vi là in ten và diem của đối tượng ra theo dạng:\n",
    "## Tên: {ten}\n",
    "## Điểm: {diem}\n",
    "class hocvien:\n",
    "    ten = 'twoSteps'\n",
    "    diem = 9\n",
    "    def inThongTin(self):\n",
    "        print('Tên: ', self.ten)\n",
    "        print('Điểm: ', self.diem)\n",
    "    def capNhatDiem(self,diem):\n",
    "        if 0 <= diem <= 10:\n",
    "            self.diem = diem\n",
    "a = hocvien()\n",
    "a.inThongTin()\n",
    "a.capNhatDiem(12)\n",
    "a.inThongTin()"
   ]
  },
  {
   "cell_type": "markdown",
   "id": "b2909dd4",
   "metadata": {},
   "source": [
    "### Hàm \\_\\_init__\n",
    "\n",
    "Hàm \\_\\_init__ là hàm khởi tạo\n",
    "\n",
    "Ví dụ:\n",
    "\n",
    "`class giangvien:\n",
    "    def __init__(self,ten,mon):\n",
    "        self.ten = ten\n",
    "        self.mon = mon\n",
    "    def doiten(self,ten):\n",
    "        self.ten = ten\n",
    "    def inten(self):\n",
    "        print(self.ten)   \n",
    "dien = giangvien(\"Điền\",\"Python căn bản\")\n",
    "thang = giangvien(\"Thắng\",\"Python siêu cấp\")\n",
    "dien.inten()\n",
    "thang.inten()`\n",
    "\n",
    "<b> Hãy chạy thử đoạn lệnh ở ví dụ: </b>"
   ]
  },
  {
   "cell_type": "code",
   "execution_count": 13,
   "id": "f15266fb",
   "metadata": {},
   "outputs": [
    {
     "name": "stdout",
     "output_type": "stream",
     "text": [
      "twoSteps\n"
     ]
    }
   ],
   "source": [
    "class hocvien:\n",
    "    def __init__(self,ten,tuoi):\n",
    "        self.ten = ten\n",
    "        self.tuoi = tuoi\n",
    "    def soSanhTuoi(self, hv2):\n",
    "        if self.tuoi < hv2.tuoi:\n",
    "            print(self.ten)\n",
    "        else:\n",
    "            print(hv2.ten)\n",
    "a = hocvien('twoSteps', 18)\n",
    "b = hocvien('catWhy', 20)\n",
    "b.soSanhTuoi(a)"
   ]
  },
  {
   "cell_type": "markdown",
   "id": "9064cc0a",
   "metadata": {},
   "source": [
    "<b> Hãy thêm 1 def \\_\\_init__ vào class hocvien để khởi tạo tên và tuổi của học viên </b>"
   ]
  },
  {
   "cell_type": "code",
   "execution_count": null,
   "id": "3e6a0dae",
   "metadata": {},
   "outputs": [],
   "source": []
  },
  {
   "cell_type": "markdown",
   "id": "d137f2f5",
   "metadata": {},
   "source": [
    "### Bài tập"
   ]
  },
  {
   "cell_type": "markdown",
   "id": "d243726c",
   "metadata": {},
   "source": [
    "Hãy xây dựng 1 class hình tròn có các thuộc tính sau:\n",
    "\n",
    "- biến x và y chứa tọa độ tâm đường tròn\n",
    "- biến r chứa bán kính đường chọn\n",
    "- hàm draw: để vẽ đường tròn"
   ]
  },
  {
   "cell_type": "code",
   "execution_count": 1,
   "id": "4121525f",
   "metadata": {},
   "outputs": [],
   "source": [
    "import turtle\n",
    "import math\n",
    "t = turtle.Turtle()\n",
    "class hinhTron:\n",
    "    def __init__(self, x, y, r):\n",
    "        self.x = x\n",
    "        self.y = y\n",
    "        self.r = r\n",
    "    def draw(self):\n",
    "        t.speed(0)\n",
    "        t.goto(self.x,self.y)\n",
    "        t.write('O')\n",
    "        t.pu()\n",
    "        t.goto(self.x, self.y - self.r)\n",
    "        t.pd()\n",
    "        t.circle(self.r)\n",
    "        turtle.done()\n",
    "a = hinhTron(0,0,100)\n",
    "a.draw()"
   ]
  },
  {
   "cell_type": "markdown",
   "id": "9017050f",
   "metadata": {},
   "source": [
    "Tạo một lớp phân số có các thuộc tính:\n",
    "\n",
    "- biến tử số và mẫu số\n",
    "- hàm cong: để cộng với một đối tượng khác có lớp phân số rồi trả về dối tượng có phân số mới\n",
    "- hàm tru: để trừ với một đối tượng khác có lớp phân số rồi trả về dối tượng có phân số mới\n",
    "- hàm nhan: để nhân với một đối tượng khác có lớp phân số rồi trả về dối tượng có phân số mới\n",
    "- hàm chia: để chia với một đối tượng khác có lớp phân số rồi trả về dối tượng có phân số mới\n",
    "- hàm toigian: để tối giản phân số rồi trả về dối tượng có phân số mới"
   ]
  },
  {
   "cell_type": "code",
   "execution_count": 12,
   "id": "2ae72d93",
   "metadata": {},
   "outputs": [
    {
     "name": "stdout",
     "output_type": "stream",
     "text": [
      "6 3\n",
      "2 1\n"
     ]
    }
   ],
   "source": [
    "def ucln(a,b):\n",
    "    while a != b:\n",
    "        if a > b:\n",
    "            a = a - b\n",
    "        else:\n",
    "            b = b - a\n",
    "    return a\n",
    "class phanSo:\n",
    "    def __init__(self, tuSo, mauSo):\n",
    "        self.tuSo = tuSo\n",
    "        self.mauSo = mauSo\n",
    "    def cong(self, ps2):\n",
    "        mauSoMoi = self.mauSo * ps2.mauSo\n",
    "        tuSoMoi = self.tuSo * ps2.mauSo + ps2.tuSo * self.mauSo\n",
    "        return phanSo(tuSoMoi, mauSoMoi)\n",
    "    def tru(self, ps2):\n",
    "        mauSoMoi = self.mauSo * ps2.mauSo\n",
    "        tuSoMoi = self.tuSo * ps2.mauSo - ps2.tuSo * self.mauSo\n",
    "        return phanSo(tuSoMoi, mauSoMoi)\n",
    "    def nhan(self, ps2):\n",
    "        mauSoMoi = self.mauSo * ps2.mauSo\n",
    "        tuSoMoi = self.tuSo * ps2.tuSo\n",
    "        return phanSo(tuSoMoi, mauSoMoi)\n",
    "    def chia(self, ps2):\n",
    "        mauSoMoi = self.mauSo * ps2.tuSo\n",
    "        tuSoMoi = self.tuSo * ps2.mauSo\n",
    "        return phanSo(tuSoMoi, mauSoMoi)\n",
    "    def toiGian(self):\n",
    "        u = ucln(self.tuSo, self.mauSo)\n",
    "        if u != 1:\n",
    "            tuSoMoi = int(self.tuSo / u)\n",
    "            mauSoMoi = int(self.mauSo / u)\n",
    "            return phanSo(tuSoMoi, mauSoMoi)\n",
    "        else:\n",
    "            return self\n",
    "a = phanSo(2, 3)\n",
    "b = phanSo(1,3)\n",
    "x = a.chia(b)\n",
    "print(x.tuSo, x.mauSo)\n",
    "y = x.toiGian()\n",
    "print(y.tuSo, y.mauSo)"
   ]
  },
  {
   "cell_type": "markdown",
   "id": "39a8cb80",
   "metadata": {},
   "source": [
    "Viết class NhanVien gồm các thuộc tính:\n",
    "\n",
    "<b> Các biến </b>\n",
    "\n",
    "- Tên\n",
    "- Tuổi\n",
    "- Địa chỉ\n",
    "- Tiền lương\n",
    "- Tổng số giờ làm\n",
    "\n",
    "<b> Các hàm </b>\n",
    "\n",
    "- nhap : Nhập các thông tin cho nhân viên từ bàn phím\n",
    "- in : In ra tất cả các thông tin của nhân viên\n",
    "- thuong: Tính toán và trả về số tiền thưởng của nhân viên theo công thức sau:\n",
    "\n",
    "    Nếu tổng số giờ làm của nhân viên >=200 thì thưởng = lương * 20%\n",
    "    \n",
    "    Nếu tổng số giờ làm của nhân viên <200 và >=100 thì thưởng = lương * 10%\n",
    "    \n",
    "    Nếu tổng số giờ làm của nhân viên <100 thì thưởng = 0"
   ]
  },
  {
   "cell_type": "code",
   "execution_count": 4,
   "id": "26d12a44",
   "metadata": {},
   "outputs": [
    {
     "name": "stdout",
     "output_type": "stream",
     "text": [
      "0\n",
      "Nhập vào tên nhân viên: tung\n",
      "Nhập vào tuổi nhân viên: 24\n",
      "Nhập vào địa chỉ nhân viên: hn\n",
      "Nhập vào tiền lương của nhân viên: 2421\n",
      "Nhập vào tổng giờ làm của nhân viên: 213\n",
      "24\n"
     ]
    }
   ],
   "source": [
    "# nên dùng dictionary để lưu dữ liệu sẽ hay hơn\n",
    "class NhanVien:\n",
    "    ten = ''\n",
    "    tuoi = 0\n",
    "    diachi = ''\n",
    "    tienluong = 0\n",
    "    tonggiolam = 0\n",
    "    def nhap(self):\n",
    "        ten = input('Nhập vào tên nhân viên: ')\n",
    "        tuoi = int(input('Nhập vào tuổi nhân viên: '))\n",
    "        diachi = input('Nhập vào địa chỉ nhân viên: ')\n",
    "        tienluong = float(input('Nhập vào tiền lương của nhân viên: '))\n",
    "        tonggiolam = input('Nhập vào tổng giờ làm của nhân viên: ')\n",
    "        self.ten = ten\n",
    "        self.tuoi = tuoi\n",
    "        self.diachi = diachi\n",
    "        self.tienluong = tienluong\n",
    "        self.tonggiolam = tonggiolam\n",
    "        \n",
    "    def inthongtin(self):\n",
    "        pass\n",
    "a = NhanVien()\n"
   ]
  }
 ],
 "metadata": {
  "kernelspec": {
   "display_name": "Python 3 (ipykernel)",
   "language": "python",
   "name": "python3"
  },
  "language_info": {
   "codemirror_mode": {
    "name": "ipython",
    "version": 3
   },
   "file_extension": ".py",
   "mimetype": "text/x-python",
   "name": "python",
   "nbconvert_exporter": "python",
   "pygments_lexer": "ipython3",
   "version": "3.10.4"
  }
 },
 "nbformat": 4,
 "nbformat_minor": 5
}
