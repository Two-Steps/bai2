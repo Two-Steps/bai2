{
 "cells": [
  {
   "cell_type": "markdown",
   "id": "73456e5e",
   "metadata": {},
   "source": [
    "# Hàm\n",
    "\n",
    "### Hàm\n",
    "\n",
    "Cú pháp:\n",
    "\n",
    "`def <tên hàm>(<tham số)>:\n",
    "    //Nội dung hàm`\n",
    "\n",
    "Gọi hàm:\n",
    "`<tên hàm>(<giá trị đầu vào>)`\n",
    "\n",
    "Ví dụ:\n",
    "\n",
    "Hãy viết 1 hàm số để tính tổng 2 số đầu vào và in nó ra màn hình"
   ]
  },
  {
   "cell_type": "code",
   "execution_count": 2,
   "id": "af5b9f6d",
   "metadata": {},
   "outputs": [
    {
     "name": "stdout",
     "output_type": "stream",
     "text": [
      "Nhap vao ten: twoSteps\n",
      "Nhap vao nam sinh2000\n",
      "Xin chao twoSteps ban co 22 tuoi\n"
     ]
    }
   ],
   "source": [
    "def info():\n",
    "    name = input('Nhap vao ten: ')\n",
    "    age = int(input('Nhap vao nam sinh'))\n",
    "    print('Xin chao',name,'ban co',2022 - age,'tuoi')\n",
    "info()"
   ]
  },
  {
   "cell_type": "code",
   "execution_count": 4,
   "id": "d655d11d",
   "metadata": {
    "scrolled": true
   },
   "outputs": [
    {
     "name": "stdout",
     "output_type": "stream",
     "text": [
      "3 * 1 = 3\n",
      "3 * 2 = 6\n",
      "3 * 3 = 9\n",
      "3 * 4 = 12\n",
      "3 * 5 = 15\n",
      "3 * 6 = 18\n",
      "3 * 7 = 21\n",
      "3 * 8 = 24\n",
      "3 * 9 = 27\n",
      "3 * 10 = 30\n"
     ]
    }
   ],
   "source": [
    "def a(n):\n",
    "    for i in range(1,11):\n",
    "        print(n,'*',i,'=',n*i)\n",
    "a(3)"
   ]
  },
  {
   "cell_type": "code",
   "execution_count": 5,
   "id": "49901405",
   "metadata": {},
   "outputs": [
    {
     "name": "stdout",
     "output_type": "stream",
     "text": [
      "Tổng 10\n",
      "Hiệu -4\n",
      "Tích 21\n",
      "Thương 0.42857142857142855\n"
     ]
    }
   ],
   "source": [
    "def work(a,b):\n",
    "    print('Tổng',a + b)\n",
    "    print('Hiệu',a - b)\n",
    "    print('Tích',a * b)\n",
    "    print('Thương',a / b)\n",
    "work(3,7)"
   ]
  },
  {
   "cell_type": "code",
   "execution_count": 6,
   "id": "3e27399f",
   "metadata": {},
   "outputs": [
    {
     "name": "stdout",
     "output_type": "stream",
     "text": [
      "Mặt hàng Cà phê\n",
      "Nhập vào số lượng muốn mua:6\n",
      "Giá tiền của 6 Cà phê là 150000\n"
     ]
    }
   ],
   "source": [
    "def muahang(s,a):\n",
    "    print('Mặt hàng',s)\n",
    "    sl = int(input('Nhập vào số lượng muốn mua:'))\n",
    "    print('Giá tiền của',sl,s,'là',sl * a)\n",
    "muahang('Cà phê',25000)"
   ]
  },
  {
   "cell_type": "code",
   "execution_count": 1,
   "id": "1be09639",
   "metadata": {},
   "outputs": [
    {
     "name": "stdout",
     "output_type": "stream",
     "text": [
      "Mặt hàng Cà phê\n",
      "Nhập vào số lượng muốn mua:6\n",
      "150000\n"
     ]
    }
   ],
   "source": [
    "def muahang(s,a):\n",
    "    print('Mặt hàng',s)\n",
    "    sl = int(input('Nhập vào số lượng muốn mua:'))\n",
    "    return sl * a\n",
    "x = muahang('Cà phê',25000)\n",
    "print(x)"
   ]
  },
  {
   "cell_type": "code",
   "execution_count": 3,
   "id": "a0e19f8b",
   "metadata": {},
   "outputs": [
    {
     "name": "stdout",
     "output_type": "stream",
     "text": [
      "Mặt hàng Cơm gà\n",
      "Nhập vào số lượng muốn mua:1\n",
      "Mặt hàng Cơm sườn\n",
      "Nhập vào số lượng muốn mua:1\n",
      "Mặt hàng Cơm trứng\n",
      "Nhập vào số lượng muốn mua:1\n",
      "Tổng số tiền phải trả là 90000\n"
     ]
    }
   ],
   "source": [
    "## Dựa vào hàm đã viết ở bài trên, viết chương trình hỏi người dùng số lượng cần mua 3 sản phẩm sau:\n",
    "## Cơm sườn - 30000\n",
    "## Cơm gà - 35000\n",
    "## Cơm trứng - 25000\n",
    "## Sau khi người dùng đã nhập số lượng, tính và in ra tổng toàn bộ số tiền cần phải trả\n",
    "def muahang(s,a):\n",
    "    print('Mặt hàng',s)\n",
    "    sl = int(input('Nhập vào số lượng muốn mua:'))\n",
    "    return sl * a\n",
    "com_ga = muahang('Cơm gà',35000)\n",
    "com_suon = muahang('Cơm sườn',30000)\n",
    "com_trung = muahang('Cơm trứng',25000)\n",
    "print('Tổng số tiền phải trả là', com_ga + com_suon + com_trung)"
   ]
  },
  {
   "cell_type": "markdown",
   "id": "a7c39f47",
   "metadata": {},
   "source": [
    "### Giá trị trả về của hàm\n",
    "\n",
    "# return\n",
    "\n",
    "Cú pháp:\n",
    "\n",
    "`retrun <giá trị trả về>`\n",
    "\n",
    "##### Lưu ý: Sau khi thực hiện lệnh return, chương trình sẽ thoát khỏi hàm ngay lập tức (những lệnh sau đó không được thực hiện)\n",
    "\n",
    "Ví dụ:\n",
    "\n",
    "Hãy viết 1 hàm trả về giá trị trung bình của 2 số bất kỳ"
   ]
  },
  {
   "cell_type": "code",
   "execution_count": null,
   "id": "0b527b95",
   "metadata": {},
   "outputs": [],
   "source": []
  },
  {
   "cell_type": "markdown",
   "id": "1d7f8db0",
   "metadata": {},
   "source": [
    "### Bài tập"
   ]
  },
  {
   "cell_type": "markdown",
   "id": "75fb488b",
   "metadata": {},
   "source": [
    "Viết hàm kiểm tra số nguyên tố"
   ]
  },
  {
   "cell_type": "code",
   "execution_count": 8,
   "id": "63701bd7",
   "metadata": {},
   "outputs": [
    {
     "name": "stdout",
     "output_type": "stream",
     "text": [
      "Nhập số tự nhiên N: 1\n"
     ]
    },
    {
     "data": {
      "text/plain": [
       "False"
      ]
     },
     "execution_count": 8,
     "metadata": {},
     "output_type": "execute_result"
    }
   ],
   "source": [
    "def songuyento(n):\n",
    "    check = True\n",
    "    if (n<2): return False\n",
    "    for i in range(2,n//2):\n",
    "        if n%i==0: check = False\n",
    "        break\n",
    "    return check\n",
    "n = int(input(\"Nhập số tự nhiên N: \"))\n",
    "songuyento(n)"
   ]
  },
  {
   "cell_type": "markdown",
   "id": "221103cf",
   "metadata": {},
   "source": [
    "Nhập vào 3 điểm toán, lý, hóa\n",
    "\n",
    "Hãy viết hàm in điểm trung bung bình rồi tính điểm trung bình của toán lý, toán hóa, lý hóa và toán lý hóa"
   ]
  },
  {
   "cell_type": "code",
   "execution_count": 11,
   "id": "1ba1d8ae",
   "metadata": {},
   "outputs": [
    {
     "name": "stdout",
     "output_type": "stream",
     "text": [
      "Nhập vào điểm toán: 9.3\n",
      "Nhập vào điểm lý: 8.6\n",
      "Nhập vào điểm hóa: 9.6\n",
      "Điểm trung bình của toán lý: 8.95\n",
      "Điểm trung bình của toán hóa: 9.45\n",
      "Điểm trung bình của lý hóa: 9.1\n",
      "Điểm trung bình của toán lý hóa: 9.166666666666666\n"
     ]
    }
   ],
   "source": [
    "def trungbinh2(a,b):\n",
    "    return (a + b) / 2\n",
    "def trungbinh3(a,b,c):\n",
    "    return (a + b + c) / 3\n",
    "toan = float(input('Nhập vào điểm toán: '))\n",
    "ly = float(input('Nhập vào điểm lý: '))\n",
    "hoa = float(input('Nhập vào điểm hóa: '))\n",
    "toan_ly = trungbinh2(toan,ly)\n",
    "toan_hoa = trungbinh2(toan,hoa)\n",
    "ly_hoa = trungbinh2(hoa,ly)\n",
    "toan_ly_hoa = trungbinh3(toan,ly,hoa)\n",
    "print('Điểm trung bình của toán lý:',toan_ly)\n",
    "print('Điểm trung bình của toán hóa:',toan_hoa)\n",
    "print('Điểm trung bình của lý hóa:',ly_hoa)\n",
    "print('Điểm trung bình của toán lý hóa:',toan_ly_hoa)"
   ]
  },
  {
   "cell_type": "markdown",
   "id": "06eb5c4a",
   "metadata": {},
   "source": [
    "Viết hàm tính giai thừa của một số"
   ]
  },
  {
   "cell_type": "code",
   "execution_count": 14,
   "id": "7b91ddf0",
   "metadata": {},
   "outputs": [
    {
     "name": "stdout",
     "output_type": "stream",
     "text": [
      "1\n"
     ]
    }
   ],
   "source": [
    "def giaithua(a):\n",
    "    s = 1\n",
    "    for i in range(1,a + 1):\n",
    "        s *= i\n",
    "    return s\n",
    "n = giaithua(0)\n",
    "print(n)"
   ]
  },
  {
   "cell_type": "markdown",
   "id": "50f43307",
   "metadata": {},
   "source": [
    "Viết hàm đếm số lượng từ của một chuỗi đưa vào"
   ]
  },
  {
   "cell_type": "code",
   "execution_count": null,
   "id": "be785b29",
   "metadata": {},
   "outputs": [],
   "source": []
  },
  {
   "cell_type": "markdown",
   "id": "696aa7d2",
   "metadata": {},
   "source": [
    "Viết hàm có giá trị đầu vào là tên sản phẩm, giá một sản phẩm và số lượng sản phẩm, tính và trả về tổng giá tiền"
   ]
  },
  {
   "cell_type": "code",
   "execution_count": null,
   "id": "da2213a2",
   "metadata": {},
   "outputs": [],
   "source": []
  },
  {
   "cell_type": "markdown",
   "id": "acdf1356",
   "metadata": {},
   "source": [
    "Viết hàm lấy tên đệm\n",
    "\n",
    "Ví dụ: Nhập vào \"Nguyễn Thị Tâm Điền\"\n",
    "\n",
    "Kết quả in ra là: \"Thị Tâm\"\n",
    "Ví dụ: Nhập vào \"Nguyễn Tâm Điền\"\n",
    "\n",
    "Kết quả in ra là: \"Tâm\""
   ]
  },
  {
   "cell_type": "code",
   "execution_count": 3,
   "id": "a5255f7a",
   "metadata": {},
   "outputs": [
    {
     "name": "stdout",
     "output_type": "stream",
     "text": [
      "Nhập vào họ tên: Nguyễn Thị Tâm Tầm Tấm Điền\n",
      "Thị Tâm Tầm Tấm\n"
     ]
    }
   ],
   "source": [
    "def tendem():\n",
    "    s = input('Nhập vào họ tên: ')\n",
    "    start = 0\n",
    "    end = 0\n",
    "    for i in range(len(s)):\n",
    "        if s[i] == ' ':\n",
    "            start = i + 1\n",
    "            break\n",
    "    for j in range(len(s)):\n",
    "        if s[j] == ' ':\n",
    "            end = j\n",
    "    return s[start:end]\n",
    "a = tendem()\n",
    "print(a)"
   ]
  },
  {
   "cell_type": "code",
   "execution_count": 6,
   "id": "cea752a4",
   "metadata": {},
   "outputs": [
    {
     "name": "stdout",
     "output_type": "stream",
     "text": [
      " \n"
     ]
    }
   ],
   "source": [
    "def tendem(s):\n",
    "    start = 0\n",
    "    end = 0\n",
    "    if s.count(' ') > 1:\n",
    "        for i in range(len(s)):\n",
    "            if s[i] == ' ':\n",
    "                start = i + 1\n",
    "                break\n",
    "        for j in range(len(s)):\n",
    "            if s[j] == ' ' and j != start - 1:\n",
    "                end = j\n",
    "                break\n",
    "        return s[start:end]\n",
    "    else:\n",
    "        return ''\n",
    "a = tendem('Nguyễn Điền')\n",
    "if a != None:\n",
    "    print(a)"
   ]
  },
  {
   "cell_type": "code",
   "execution_count": 11,
   "id": "7b95492b",
   "metadata": {},
   "outputs": [
    {
     "name": "stdout",
     "output_type": "stream",
     "text": [
      "Thị Tâm\n"
     ]
    }
   ],
   "source": [
    "def temdem(s):\n",
    "    start = 0\n",
    "    end = 0\n",
    "    if s.count(' ') <= 1:\n",
    "        return \n",
    "    else:\n",
    "        start = s.find(' ')\n",
    "        end = s.rfind(' ')\n",
    "        return s[start + 1:end]\n",
    "x = temdem('Nguyễn Thị Tâm Điền')\n",
    "if x != None:\n",
    "    print(x)\n",
    "else:\n",
    "    print('Không có tên đệm')"
   ]
  },
  {
   "cell_type": "markdown",
   "id": "b4adef40",
   "metadata": {},
   "source": [
    "Viết một hàm vẽ hình tròn, một hàm vẽ hình vuông và một hàm vẽ hình tam giác đều (giá trị đầu vào là a)\n",
    "\n",
    "Tất cả hàm này, bắt đầu từ 1 vị trí, sau khi vẽ ra, con trỏ sẽ tiến tới vị trí tiếp theo, cách vì đầu một khoảng a + 10 theo chiều x từ trái sang"
   ]
  },
  {
   "cell_type": "code",
   "execution_count": null,
   "id": "e405d1d4",
   "metadata": {},
   "outputs": [],
   "source": [
    "import turtle\n",
    "\n",
    "t = turtle.Turtle()\n",
    "\n",
    "def hinhtron(a):\n",
    "    t.pu()\n",
    "    t.fd(a/2)\n",
    "    t.pd()\n",
    "    t.circle(a/2)\n",
    "    t.penup()\n",
    "    t.fd(a/2 + 10)\n",
    "    t.pendown()\n",
    "    \n",
    "hinhtron(100)\n",
    "hinhtron(100)\n",
    "hinhtron(100)\n",
    "\n",
    "\n",
    "def hinhtamgiac(a):\n",
    "    for i in range(3):\n",
    "        t.fd(a)\n",
    "        t.lt(120)\n",
    "    t.penup()\n",
    "    t.fd(a + 10)\n",
    "    t.pendown()\n",
    "    \n",
    "hinhtamgiac(100)\n",
    "\n",
    "def hinhvuong(a):\n",
    "    for i in range(4):\n",
    "        t.fd(a)\n",
    "        t.lt(90)\n",
    "    t.penup()\n",
    "    t.fd(a + 10)\n",
    "    t.pendown()\n",
    "    \n",
    "hinhvuong(100)\n",
    "\n",
    "turtle.done()\n"
   ]
  }
 ],
 "metadata": {
  "kernelspec": {
   "display_name": "Python 3 (ipykernel)",
   "language": "python",
   "name": "python3"
  },
  "language_info": {
   "codemirror_mode": {
    "name": "ipython",
    "version": 3
   },
   "file_extension": ".py",
   "mimetype": "text/x-python",
   "name": "python",
   "nbconvert_exporter": "python",
   "pygments_lexer": "ipython3",
   "version": "3.10.4"
  }
 },
 "nbformat": 4,
 "nbformat_minor": 5
}
