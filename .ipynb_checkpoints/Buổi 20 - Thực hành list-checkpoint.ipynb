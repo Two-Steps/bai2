{
 "cells": [
  {
   "cell_type": "markdown",
   "id": "011431b9",
   "metadata": {},
   "source": [
    "# Thực hành List\n",
    "\n",
    "##### Chú ý: list một dãy số người ta còn gọi là một mảng\n",
    "\n",
    "### Bài 1"
   ]
  },
  {
   "cell_type": "markdown",
   "id": "61a90628",
   "metadata": {},
   "source": [
    "Viết hàm với đầu vào là một mảng, hãy tính và trả về giá trị trung bình của mảng"
   ]
  },
  {
   "cell_type": "code",
   "execution_count": 2,
   "id": "bcc197d5",
   "metadata": {},
   "outputs": [
    {
     "data": {
      "text/plain": [
       "41.31666666666667"
      ]
     },
     "execution_count": 2,
     "metadata": {},
     "output_type": "execute_result"
    }
   ],
   "source": [
    "def avg_arr(arr):\n",
    "    S = 0\n",
    "    for i in arr:\n",
    "        S += i\n",
    "    return S/len(arr)\n",
    "avg_arr([12, -32.6, 123, 79, 0.5, 66])"
   ]
  },
  {
   "cell_type": "markdown",
   "id": "30d26c1b",
   "metadata": {},
   "source": [
    "### Bài 2"
   ]
  },
  {
   "cell_type": "markdown",
   "id": "674ef26c",
   "metadata": {},
   "source": [
    "Viết hàm với đầu vào là một mảng, hãy tìm và trả về giá trị âm lớn nhất trong mảng"
   ]
  },
  {
   "cell_type": "code",
   "execution_count": 6,
   "id": "1a9cb505",
   "metadata": {},
   "outputs": [
    {
     "data": {
      "text/plain": [
       "0"
      ]
     },
     "execution_count": 6,
     "metadata": {},
     "output_type": "execute_result"
    }
   ],
   "source": [
    "def max_a(arr):\n",
    "    l = []\n",
    "    for i in arr:\n",
    "        if i < 0:\n",
    "            l.append(i)\n",
    "    if len(l) != 0:\n",
    "        m = l[0]\n",
    "        for j in l:\n",
    "            if m < j:\n",
    "                m = j\n",
    "        return m\n",
    "    else:\n",
    "        return 0\n",
    "ar = [12, -32.6, -123, 79, 0.5, 66] \n",
    "ar2 = [12, 123, 0.5, 79]\n",
    "max_a(ar2)"
   ]
  },
  {
   "cell_type": "markdown",
   "id": "95cfaa74",
   "metadata": {},
   "source": [
    "### Bài 3"
   ]
  },
  {
   "cell_type": "markdown",
   "id": "5361a4b8",
   "metadata": {},
   "source": [
    "Viết hàm với giá trị đầu vào là một mảng, hãy sắp xếp và trả về mảng có độ lớn tăng dần"
   ]
  },
  {
   "cell_type": "code",
   "execution_count": 16,
   "id": "91ad4d5d",
   "metadata": {},
   "outputs": [
    {
     "data": {
      "text/plain": [
       "[-32.6, 0.5, 12, 66, 79, 123]"
      ]
     },
     "execution_count": 16,
     "metadata": {},
     "output_type": "execute_result"
    }
   ],
   "source": [
    "# thầy không cho dùng sort() đâu :))\n",
    "def sap_xep(arr):\n",
    "    for i in range(len(arr)):\n",
    "        for j in range(len(arr)):\n",
    "            if arr[i] < arr[j]:\n",
    "                arr[i], arr[j] = arr[j], arr[i]\n",
    "    return arr\n",
    "arr = [12, -32.6, 123, 79, 0.5, 66]\n",
    "sap_xep(arr)"
   ]
  },
  {
   "cell_type": "markdown",
   "id": "025cc0cb",
   "metadata": {},
   "source": [
    "### Bài 4"
   ]
  },
  {
   "cell_type": "markdown",
   "id": "dbf885a9",
   "metadata": {},
   "source": [
    "Viết hàm với giá trị đầu vào là một mảng, tìm x sao cho đoạn [-x,x] chứa tất cả các giá trị có trong mảng"
   ]
  },
  {
   "cell_type": "code",
   "execution_count": 9,
   "id": "84606ea2",
   "metadata": {},
   "outputs": [
    {
     "name": "stdout",
     "output_type": "stream",
     "text": [
      "Đoạn [-216,216] chứ tất cả giá trị có trong mảng\n"
     ]
    }
   ],
   "source": [
    "arr1 = [12, -32.6, -123, 79, 0.5, 66, 216]\n",
    "\n",
    "def find_cover(arr):\n",
    "    x = abs(arr[0])\n",
    "    for i in arr:\n",
    "        if x < abs(i):\n",
    "            x = abs(i)\n",
    "    return x\n",
    "x = find_cover(arr1)\n",
    "print(f'Đoạn [{-x},{x}] chứ tất cả giá trị có trong mảng')"
   ]
  },
  {
   "cell_type": "markdown",
   "id": "98aa10b5",
   "metadata": {},
   "source": [
    "### Bài 5"
   ]
  },
  {
   "cell_type": "markdown",
   "id": "a7fe3092",
   "metadata": {},
   "source": [
    "Viết hàm với giá trị đầu vào là một mảng, Hãy tìm một vị trí trong mảng thỏa hai điền kiện: có hai giá trị lân cận và giá trị tại vị trí đó bằng tích hai giá trị lân cận. Nếu mảng không tồn tại giá trị như vậy thì hàm trả về giá trị - 1"
   ]
  },
  {
   "cell_type": "code",
   "execution_count": 17,
   "id": "9d55cb01",
   "metadata": {},
   "outputs": [
    {
     "data": {
      "text/plain": [
       "4"
      ]
     },
     "execution_count": 17,
     "metadata": {},
     "output_type": "execute_result"
    }
   ],
   "source": [
    "arr1 = [12, -32.6, 123, 123, 9717, 79, 0.5, 66, 216]\n",
    "\n",
    "def find_index(arr):\n",
    "    a = 0\n",
    "    for i in range(1, len(arr) - 1):\n",
    "        if arr[i] == arr[i-1] * arr[i+1]:\n",
    "            a = i\n",
    "    if a:\n",
    "        return a\n",
    "    else:\n",
    "        return -1\n",
    "find_index(arr1)"
   ]
  },
  {
   "cell_type": "markdown",
   "id": "035325d7",
   "metadata": {},
   "source": [
    "### Bài 6"
   ]
  },
  {
   "cell_type": "markdown",
   "id": "e2d35127",
   "metadata": {},
   "source": [
    "Viết hàm có giá trị đầu vào là một mảng. Hãy tìm giá trị đầu tiên trong mảng một chiều các số nguyên có chữ sốđầu tiên là chữ số lẻ. Nếu trong mảng không tồn tại giá trị như vậy thì hàm sẽ trả về giá trị 0."
   ]
  },
  {
   "cell_type": "code",
   "execution_count": 3,
   "id": "b8a8b8a2",
   "metadata": {},
   "outputs": [
    {
     "data": {
      "text/plain": [
       "0"
      ]
     },
     "execution_count": 3,
     "metadata": {},
     "output_type": "execute_result"
    }
   ],
   "source": [
    "arr1 = [63, -31, 128, 123, 9717, 79, 5, 66, 9, 216, -1, 13] \n",
    "arr2 = [412, 236, -4, -6, 82, 67]\n",
    "\n",
    "def kt_sole(n):\n",
    "    if n % 2 == 1:\n",
    "        return True\n",
    "    else:\n",
    "        return False\n",
    "    \n",
    "def first_char(a):\n",
    "    if -10 < a < 10:\n",
    "        return abs(a)\n",
    "    else:\n",
    "        b = abs(a)\n",
    "        s = str(b)\n",
    "        for i in range(len(s) - 1):\n",
    "            b = b // 10\n",
    "        return b\n",
    "\n",
    "def kt(arr):\n",
    "    for i in arr:\n",
    "        if kt_sole(first_char(i)):\n",
    "            return i\n",
    "    return 0\n",
    " \n",
    "kt(arr2)"
   ]
  },
  {
   "cell_type": "markdown",
   "id": "da270d1a",
   "metadata": {},
   "source": [
    "### Bài 7"
   ]
  },
  {
   "cell_type": "markdown",
   "id": "079fdafe",
   "metadata": {},
   "source": [
    "Viết hàm có giá trị đầu vào là một mảng. Hãy tìm giá trị đầu tiên trong mảng có dạng 2^k. Nếu mảng không tồn tại giá trị dạng 2^k thì hàm sẽ trả về giá trị 0."
   ]
  },
  {
   "cell_type": "code",
   "execution_count": 5,
   "id": "f9311f33",
   "metadata": {},
   "outputs": [
    {
     "data": {
      "text/plain": [
       "128"
      ]
     },
     "execution_count": 5,
     "metadata": {},
     "output_type": "execute_result"
    }
   ],
   "source": [
    "# ==> thiếu trường hợp số mũ là âm và số thập phân @_@\n",
    "arr1 = [12, -32.6, 128, 123, 9717, 79, 0.5, 66, 216] \n",
    "\n",
    "def check(n):\n",
    "    while True:\n",
    "        if n % 2 == 0:\n",
    "            n = n / 2\n",
    "            if n == 1:\n",
    "                break\n",
    "        else:\n",
    "            return False\n",
    "    return True\n",
    "\n",
    "def find_first(arr):\n",
    "    for i in arr:\n",
    "        if check(i):\n",
    "            return i\n",
    "    return 0\n",
    "\n",
    "find_first(arr1)"
   ]
  },
  {
   "cell_type": "code",
   "execution_count": 7,
   "id": "6b014c06",
   "metadata": {},
   "outputs": [
    {
     "ename": "KeyboardInterrupt",
     "evalue": "",
     "output_type": "error",
     "traceback": [
      "\u001b[1;31m---------------------------------------------------------------------------\u001b[0m",
      "\u001b[1;31mKeyboardInterrupt\u001b[0m                         Traceback (most recent call last)",
      "Input \u001b[1;32mIn [7]\u001b[0m, in \u001b[0;36m<cell line: 26>\u001b[1;34m()\u001b[0m\n\u001b[0;32m     23\u001b[0m             \u001b[38;5;28;01mreturn\u001b[39;00m i\n\u001b[0;32m     24\u001b[0m     \u001b[38;5;28;01mreturn\u001b[39;00m \u001b[38;5;241m0\u001b[39m\n\u001b[1;32m---> 26\u001b[0m \u001b[43mfind_first\u001b[49m\u001b[43m(\u001b[49m\u001b[43marr1\u001b[49m\u001b[43m)\u001b[49m\n",
      "Input \u001b[1;32mIn [7]\u001b[0m, in \u001b[0;36mfind_first\u001b[1;34m(arr)\u001b[0m\n\u001b[0;32m     20\u001b[0m \u001b[38;5;28;01mdef\u001b[39;00m \u001b[38;5;21mfind_first\u001b[39m(arr):\n\u001b[0;32m     21\u001b[0m     \u001b[38;5;28;01mfor\u001b[39;00m i \u001b[38;5;129;01min\u001b[39;00m arr:\n\u001b[1;32m---> 22\u001b[0m         \u001b[38;5;28;01mif\u001b[39;00m \u001b[43mcheck\u001b[49m\u001b[43m(\u001b[49m\u001b[43mi\u001b[49m\u001b[43m)\u001b[49m:\n\u001b[0;32m     23\u001b[0m             \u001b[38;5;28;01mreturn\u001b[39;00m i\n\u001b[0;32m     24\u001b[0m     \u001b[38;5;28;01mreturn\u001b[39;00m \u001b[38;5;241m0\u001b[39m\n",
      "Input \u001b[1;32mIn [7]\u001b[0m, in \u001b[0;36mcheck\u001b[1;34m(n)\u001b[0m\n\u001b[0;32m     12\u001b[0m \u001b[38;5;28;01melse\u001b[39;00m:\n\u001b[0;32m     13\u001b[0m     b \u001b[38;5;241m=\u001b[39m n\n\u001b[1;32m---> 14\u001b[0m     \u001b[38;5;28;01mwhile\u001b[39;00m \u001b[43mb\u001b[49m\u001b[43m \u001b[49m\u001b[38;5;241;43m<\u001b[39;49m\u001b[43m \u001b[49m\u001b[38;5;241;43m2\u001b[39;49m:\n\u001b[0;32m     15\u001b[0m         b \u001b[38;5;241m*\u001b[39m\u001b[38;5;241m=\u001b[39m \u001b[38;5;241m2\u001b[39m\n\u001b[0;32m     16\u001b[0m     \u001b[38;5;28;01mif\u001b[39;00m b \u001b[38;5;241m!=\u001b[39m \u001b[38;5;241m2\u001b[39m:\n",
      "\u001b[1;31mKeyboardInterrupt\u001b[0m: "
     ]
    }
   ],
   "source": [
    "arr1 = [12, -32.6, 129, 123, 9717, 79, 0.5, 66, 216, 0.5] \n",
    "\n",
    "def check(n):\n",
    "    while True:\n",
    "        if n >= 2:\n",
    "            if n % 2 == 0:\n",
    "                n = n / 2\n",
    "                if n == 1:\n",
    "                    break\n",
    "            else:\n",
    "                return False\n",
    "        elif n > 0:\n",
    "            b = n\n",
    "            while b < 2:\n",
    "                b *= 2\n",
    "            if b != 2:\n",
    "                return False \n",
    "    return True\n",
    "\n",
    "def find_first(arr):\n",
    "    for i in arr:\n",
    "        if check(i):\n",
    "            return i\n",
    "    return 0\n",
    "\n",
    "find_first(arr1)"
   ]
  },
  {
   "cell_type": "markdown",
   "id": "80c8ab17",
   "metadata": {},
   "source": [
    "### Bài 8"
   ]
  },
  {
   "cell_type": "markdown",
   "id": "47c3a2e2",
   "metadata": {},
   "source": [
    "Viết hàm có giá trị đầu vào là một mảng. Hãy tìm giá trị thỏa điều kiện toàn chữ số lẻ và là giá trị lớn nhất thỏa điều kiện ấy trong mảng (nếu mảng không có giá trị thỏa điều kiện trên thì hàm trả về giá trị 0)"
   ]
  },
  {
   "cell_type": "code",
   "execution_count": 1,
   "id": "f8740d98",
   "metadata": {},
   "outputs": [
    {
     "name": "stdout",
     "output_type": "stream",
     "text": [
      "Mảng những số toàn chữ số lẻ: [13, -31.7, 9717, -79, 9, -1.9, 1.3]\n"
     ]
    },
    {
     "data": {
      "text/plain": [
       "9717"
      ]
     },
     "execution_count": 1,
     "metadata": {},
     "output_type": "execute_result"
    }
   ],
   "source": [
    "arr1 = [13, -31.7, 128, 123, 9717, -79, 0.5, 66, 9, 216, -1.9, 1.3] \n",
    "arr2 = [12, 36, -4.2, 136, 1.8, 67.9]\n",
    "\n",
    "def find_max(arr):\n",
    "    l = []\n",
    "    m = 0\n",
    "    for i in arr:\n",
    "        x = str(i)\n",
    "        if x.find('.') == -1:\n",
    "            check = True\n",
    "            j = abs(i)\n",
    "            while j > 0:\n",
    "                a = j % 10\n",
    "                check = check and (a % 2 == 1)\n",
    "                j = j // 10\n",
    "            if check:\n",
    "                l.append(i)\n",
    "        else:\n",
    "            x = x[:x.find('.')] + x[x.find('.') + 1:]\n",
    "            check = True\n",
    "            j = abs(int(x))\n",
    "            while j > 0:\n",
    "                a = j % 10\n",
    "                check = check and (a % 2 == 1)\n",
    "                j = j // 10\n",
    "            if check and abs(i) > 1:\n",
    "                l.append(i)\n",
    "    print('Mảng những số toàn chữ số lẻ:',l)\n",
    "    if len(l) > 0:\n",
    "        m = l[0]\n",
    "        for t in range(1, len(l)):\n",
    "            if m < l[t]:\n",
    "                m = l[t]\n",
    "    return m\n",
    "        \n",
    "find_max(arr1)"
   ]
  },
  {
   "cell_type": "markdown",
   "id": "8a09bf26",
   "metadata": {},
   "source": [
    "### Bài 9"
   ]
  },
  {
   "cell_type": "markdown",
   "id": "09f9a4c6",
   "metadata": {},
   "source": [
    "Trong kỳ thi học sinh giỏi môn Tin học, một học sinh là người đạt giải đặc biệt. Ban tổ chức cho phép học sinh đó chọn các phần thưởng cho mình.\n",
    "\n",
    "Các phần thưởng xếp thành một dãy được đánh số từ 1 đến N (0 ≤ N ≤ 10000), phần thưởng thứ i có giá trị là Ai (1 ≤ Ai ≤ 100).\n",
    "\n",
    "Học sinh được phép chọn các phần thưởng cho mình theo nguyên tắc không chọn 3 phần thưởng liên tiếp nhau trong dãy.\n",
    "\n",
    "Viết chương trình để máy tính hướng dẫn học sinh đó chọn các phần thưởng sao cho tổng giá trị của các phần thưởng nhận được là lớn nhất.\n",
    "\n",
    "Nhập vào N, sau đó nhập n lần các giá trị Ai\n",
    "\n",
    "In ra giá trị lớn nhất học sinh được chọn, và các vị trí mà học sinh cần chọn để đạt được giá trị lớn nhất"
   ]
  },
  {
   "cell_type": "code",
   "execution_count": 6,
   "id": "c350a1e9",
   "metadata": {},
   "outputs": [
    {
     "name": "stdout",
     "output_type": "stream",
     "text": [
      "58\n"
     ]
    }
   ],
   "source": [
    "# chọn 3 số trong list sao cho tổng là max, không được chọn 3 số liên tiếp\n",
    "# 2 số liên tiếp => vẫn chọn ok\n",
    "\n",
    "# tìm số lớn nhất trong mảng => lưu nó vào l_max[], lưu index của nó vào l_index[], tăng count lên 1 đvị\n",
    "# tìm số lớn nhất trong mảng, nó khải chưa xuất hiện trong l_max[], nếu vị trí của nó là 1 trong các vị trí cạnh\n",
    "# của các vị trí trong l_index tăng count lên 1 đvị nếu count <= 1, \n",
    "#ngược lại nếu count == 2 bỏ qua giá trị max đó và tìm max khác"
   ]
  },
  {
   "cell_type": "code",
   "execution_count": 6,
   "id": "ccac5c20",
   "metadata": {},
   "outputs": [
    {
     "name": "stdout",
     "output_type": "stream",
     "text": [
      "[132, 51, 26]\n",
      "[1, 4, 0]\n"
     ]
    }
   ],
   "source": [
    "arr = []\n",
    "n = 0\n",
    "arr2 = arr.copy()\n",
    "l_max = []\n",
    "l_index = []\n",
    "count = 0\n",
    "\n",
    "def check_index(ar,i):\n",
    "    if len(ar) == 0:\n",
    "        return False\n",
    "    for j in ar:\n",
    "        if i == j + 1 or i == j - 1:\n",
    "            return True\n",
    "    return False\n",
    "\n",
    "for i in range(3):\n",
    "    if count == 0:\n",
    "        m = max(arr2)\n",
    "        ind = arr.index(m)\n",
    "        if not check_index(arr2,ind):\n",
    "            l_max.append(m)\n",
    "            l_index.append(ind)\n",
    "            arr2.remove(m)\n",
    "        else:\n",
    "            l_max.append(m)\n",
    "            l_index.append(ind)\n",
    "            arr2.remove(m)\n",
    "            count += 1\n",
    "    else:\n",
    "        m = max(arr2)\n",
    "        ind = arr.index(m)\n",
    "        if not check_index(arr2,ind):\n",
    "            l_max.append(m)\n",
    "            l_index.append(ind)\n",
    "            arr2.remove(m)\n",
    "        else:\n",
    "            arr2.remove(m)\n",
    "            n = max(arr2)\n",
    "            ind2 = arr.index(n)\n",
    "            l_max.append(n)\n",
    "            l_index.append(ind2)\n",
    "            \n",
    "        \n",
    "                          \n",
    "print(l_max)\n",
    "print(l_index)"
   ]
  }
 ],
 "metadata": {
  "kernelspec": {
   "display_name": "Python 3 (ipykernel)",
   "language": "python",
   "name": "python3"
  },
  "language_info": {
   "codemirror_mode": {
    "name": "ipython",
    "version": 3
   },
   "file_extension": ".py",
   "mimetype": "text/x-python",
   "name": "python",
   "nbconvert_exporter": "python",
   "pygments_lexer": "ipython3",
   "version": "3.10.4"
  }
 },
 "nbformat": 4,
 "nbformat_minor": 5
}
