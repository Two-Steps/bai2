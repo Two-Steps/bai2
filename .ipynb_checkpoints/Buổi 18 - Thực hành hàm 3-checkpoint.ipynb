{
 "cells": [
  {
   "cell_type": "markdown",
   "id": "f13965b3",
   "metadata": {},
   "source": [
    "### Bài 1\n",
    "\n",
    "Viết hàm `tientaxi` tính tiền taxi với tham số đầu vào là số km đi được và trả về số tiền\n",
    "\n",
    "- 1km đầu là 15000.\n",
    "- Từ km thứ 2 đến km thứ 10 là 14000.\n",
    "- Từ km thứ 11 đến km thứ 20 là 12500.\n",
    "- Từ km thứ 21 đến km thứ 30 là 11000.\n",
    "- Trên 30km thì mỗi km tăng thêm là 9000."
   ]
  },
  {
   "cell_type": "code",
   "execution_count": 16,
   "id": "112a50d0",
   "metadata": {},
   "outputs": [
    {
     "data": {
      "text/plain": [
       "266000"
      ]
     },
     "execution_count": 16,
     "metadata": {},
     "output_type": "execute_result"
    }
   ],
   "source": [
    "def tientaxi(m):\n",
    "    tien = 0\n",
    "    if m > 30:\n",
    "        tien = (m - 30)* 9000 + 10 * 11000 + 10 * 12500 + 9 * 14000 + 15000\n",
    "    elif m > 20:\n",
    "        tien = (m - 20)* 11000 + 10 * 12500 + 9 * 14000 + 15000\n",
    "    elif m > 10:\n",
    "        tien = (m - 10)* 12500 + 9 * 14000 + 15000\n",
    "    elif m > 1:\n",
    "        tien = (m - 1) * 14000 + 15000\n",
    "    else:\n",
    "        tien = 15000\n",
    "    return tien\n",
    "tientaxi(20)"
   ]
  },
  {
   "cell_type": "markdown",
   "id": "7c40ebdb",
   "metadata": {},
   "source": [
    "### Bài 2\n",
    "\n",
    "Một hãng cung cấp dịch vụ điện thoại khuyến khích người dùng đăng ký số thuê bao mới bằng cách, khi người dùng đến đăng ký thuê báo sẽ được tặng 2 số may mắn n và k, hãng sẽ khuyến mãi cho người đó số tiền vào tài khoản từ số n sau khi xóa k chữ số\n",
    "\n",
    "Hãy viết hàm `tienkm` cho vào n và k, trả về số lớn nhất có thể sau khi xóa k chữ số trong n"
   ]
  },
  {
   "cell_type": "code",
   "execution_count": 17,
   "id": "b8b6af8f",
   "metadata": {},
   "outputs": [
    {
     "data": {
      "text/plain": [
       "9454"
      ]
     },
     "execution_count": 17,
     "metadata": {},
     "output_type": "execute_result"
    }
   ],
   "source": [
    "# n = 93421534\n",
    "# k = 4\n",
    "# bài này đang bị sai logic, xóa số nhỏ nhất vẫn sai\n",
    "def tienkm(n,k):\n",
    "    n = str(n)\n",
    "    s = 0\n",
    "    m = 9\n",
    "    for i in range(k):\n",
    "        for j in range(len(n)):\n",
    "            if int(n[j]) <= m:\n",
    "                m = int(n[j])\n",
    "                s = j\n",
    "        n = n[:s] + n[s+1:]\n",
    "        s = 0\n",
    "        m = 9\n",
    "    return int(n)\n",
    "tienkm(93421534,4)"
   ]
  },
  {
   "cell_type": "code",
   "execution_count": 33,
   "id": "84d82d03",
   "metadata": {},
   "outputs": [
    {
     "name": "stdout",
     "output_type": "stream",
     "text": [
      "85\n"
     ]
    }
   ],
   "source": [
    "def tienkm(n,k):\n",
    "    a = str(n)\n",
    "    for i in range(k):\n",
    "        x = True\n",
    "        for j in range(len(a) - 1) :\n",
    "            if int(a[j]) < int(a[j+1]):\n",
    "                x = False\n",
    "                a = a[:j] + a[j+1:]\n",
    "                break\n",
    "        if x == True:\n",
    "            a = a[:-1]\n",
    "    return a\n",
    "print(tienkm(85554,3))"
   ]
  },
  {
   "cell_type": "markdown",
   "id": "4c877020",
   "metadata": {},
   "source": [
    "### Bài 3\n",
    "\n",
    "Cấp số cộng là một dãy số mà kể từ số hạng thứ hai trở đi thì mỗi số hạng hơn số hạng liền trước của nó k đơn vị\n",
    "\n",
    "Ví dụ:\n",
    "- 2, 4, 6, 8, 10,.. là một cấp số cộng với k là 2\n",
    "- 3, 6, 9, 12,... là một cấp số cộng với k là 3\n",
    "\n",
    "Tí đã viết được 4 số là 1 cấp số cộng nhưng Tèo lại xóa đi mất 1 số\n",
    "\n",
    "Bạn hãy viết hàm `timcsc` cho vào 3 số hạng là 3 số còn lại của cấp số cộng, trả về số bị thiếu (trong trường hợp có 2 đáp án, trả về đáp án lớn nhất)\n",
    "\n",
    "Ví dụ:\n",
    "\n",
    "- timcsc(4,6,8) kết quả là 10\n",
    "- timcsc(10,1,4) kết quả là 7"
   ]
  },
  {
   "cell_type": "code",
   "execution_count": 34,
   "id": "6e1fcaf0",
   "metadata": {},
   "outputs": [
    {
     "data": {
      "text/plain": [
       "4"
      ]
     },
     "execution_count": 34,
     "metadata": {},
     "output_type": "execute_result"
    }
   ],
   "source": [
    "def timcsc(a,b,c):\n",
    "    if a > b:\n",
    "        a,b = b,a\n",
    "    if a > c:\n",
    "        a,c = c,a\n",
    "    if b > c:\n",
    "        b,c = c,b\n",
    "    if b - a == c - b:\n",
    "        # dãy số: a,b,c,n với n là số cần tìm\n",
    "        return c * 2 - b\n",
    "    if b - a < c - b:\n",
    "        # dãy số: a,b,n,c với n là số cần tìm\n",
    "        return b * 2 - a\n",
    "    if b - a > c - b:\n",
    "        # dãy số: a,n,b,c với n là số cần tìm\n",
    "        return int((a + b)/2)\n",
    "timcsc(1,7,10)"
   ]
  }
 ],
 "metadata": {
  "kernelspec": {
   "display_name": "Python 3 (ipykernel)",
   "language": "python",
   "name": "python3"
  },
  "language_info": {
   "codemirror_mode": {
    "name": "ipython",
    "version": 3
   },
   "file_extension": ".py",
   "mimetype": "text/x-python",
   "name": "python",
   "nbconvert_exporter": "python",
   "pygments_lexer": "ipython3",
   "version": "3.10.4"
  }
 },
 "nbformat": 4,
 "nbformat_minor": 5
}
