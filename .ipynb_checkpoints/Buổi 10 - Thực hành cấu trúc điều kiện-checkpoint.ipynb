{
 "cells": [
  {
   "cell_type": "markdown",
   "id": "dcdb816e",
   "metadata": {},
   "source": [
    "# Thực hành cấu trúc điều khiển\n",
    "\n",
    "### Bài 1\n",
    "\n",
    "Cho phương trình bậc 2: ax^2 + bx + c = 0\n",
    "\n",
    "Nhập a, b, c\n",
    "\n",
    "Giải và biện luận phương trình trên"
   ]
  },
  {
   "cell_type": "code",
   "execution_count": 1,
   "id": "b5a5c325",
   "metadata": {},
   "outputs": [],
   "source": [
    "import turtle as t\n",
    "import random\n",
    "# Tạo và quy định dài rộng của đường đua\n",
    "# và các tham số\n",
    "screen = t.Screen()\n",
    "screen.setup(height=500, width=600)\n",
    "# Hiển thị cửa sổ cho phép người dùng đoán\n",
    "# con rùa màu nào thắng cuộc\n",
    "guess = screen.textinput(prompt=\"Dự đoán con rùa nào chiến thắng?\", title=\"Nhập vào màu rùa (đỏ, nâu, xanh dương, xanh lá cây, cam, hồng)\")\n",
    "# List lưu lại màu của các con rùa\n",
    "colors = [\"red\", \"brown\", \"blue\", \"green\", \"orange\", \"pink\"]\n",
    "# Vị trí ban đầu theo trục y của các con rùa\n",
    "# Theo trục x = -250, cách vị trí 0,0 250 về bên trái\n",
    "y_position = [0, -30, 30, -60, 60, 90]\n",
    "# List lưu lại vận tốc của các con rùa\n",
    "# các giá trị này sẽ được chọn một cách ngẫu nhiên\n",
    "# cho các con rùa khi chạy\n",
    "turtle_speed = [10, 15, 20, 25, 30, 5]\n",
    "\n",
    "# Tạo một list để lưu các con rùa\n",
    "all_turtles = []\n",
    "run = True\n",
    "# Xây dựng hàm để tạo và thiết đặt vị trí ban\n",
    "# đầu, màu cho các con rùa và lưu vào list\n",
    "for turtle in range(0, 6):\n",
    "    turtles = t.Turtle(shape=\"turtle\")\n",
    "    turtles.penup()\n",
    "    # Di chuyển rùa về vị trí ban đầu,\n",
    "    # bên trái cùng của đường đua\n",
    "    turtles.goto(x=-250, y=y_position[turtle])\n",
    "    # Màu của rùa\n",
    "    turtles.color(colors[turtle])\n",
    "    # Lưu vào list\n",
    "    all_turtles.append(turtles)\n",
    "# Xây dựng hàm di chuyển về đích của\n",
    "# mỗi con rùa, khoảng cách di chuyển được\n",
    "# chọn ngẫu nhiên trong các giá trị\n",
    "# được lưu trong list phía trên\n",
    "def random_walk(turtles):\n",
    "    global run\n",
    "    for turtle in turtles:\n",
    "        turtle.forward(random.choice(turtle_speed))\n",
    "        # Kiểm tra điều kiện cán đích\n",
    "        # Khi 1 con cán đích thì dừng lại\n",
    "        if turtle.xcor() > 250:\n",
    "            run = False\n",
    "while run:\n",
    "    random_walk(all_turtles)\n",
    "\n",
    "# Chương trình kết thúc khi click\n",
    "# chuột lên màn hình\n",
    "screen.exitonclick()"
   ]
  },
  {
   "cell_type": "code",
   "execution_count": 1,
   "id": "477f27c8",
   "metadata": {},
   "outputs": [],
   "source": [
    "import turtle as t\n",
    "import random\n",
    "\n",
    "# Tạo khung cảnh và vẽ các cột mốc bên trái đường đua\n",
    "screen = t.Screen()\n",
    "screen.setup(height=500, width=600)\n",
    "pen = t.Turtle(visible=False)\n",
    "pen.penup()\n",
    "pen.speed(0)\n",
    "pen.goto(-250, 200)\n",
    "for i in range(21):\n",
    "    pen.write(i)\n",
    "    pen.forward(25)\n",
    "\n",
    "# Vẽ các đường đứt đoạn trên đường đua và\n",
    "# đánh dấu các cột mốc bên phải đường đua\n",
    "x = -250\n",
    "pen.goto(-250, 200)\n",
    "pen.right(90)\n",
    "for i in range(21):\n",
    "    for j in range(10):\n",
    "        pen.pendown()\n",
    "        pen.forward(20)\n",
    "        pen.penup()\n",
    "        pen.forward(10)\n",
    "    pen.penup()\n",
    "    pen.forward(5)\n",
    "    pen.write(i)\n",
    "    pen.goto(x + (i + 1) * 25, 200)\n",
    "    \n",
    "all_turtles = []\n",
    "y_position = [160, 100, 40, -20]\n",
    "colors = ['red', 'green', 'blue', 'black']\n",
    "for turtle in range(0, 4):\n",
    "    turtles = t.Turtle(shape=\"turtle\")\n",
    "    turtles.penup()\n",
    "    # Di chuyển rùa về vị trí ban đầu,\n",
    "    # bên trái cùng của đường đua\n",
    "    turtles.goto(x=-250, y=y_position[turtle])\n",
    "    # Màu của rùa\n",
    "    turtles.color(colors[turtle])\n",
    "    for i in range(5):\n",
    "        turtles.left(72)\n",
    "    # Lưu vào list\n",
    "    all_turtles.append(turtles)\n",
    "\n",
    "def random_walk(turtles):\n",
    "    global run\n",
    "    for turtle in turtles:\n",
    "        turtle.forward(random.randint(1, 10))\n",
    "        # Kiểm tra điều kiện cán đích\n",
    "        # Khi 1 con cán đích thì dừng lại\n",
    "        if turtle.xcor() > 250:\n",
    "            run = False\n",
    "\n",
    "run = True\n",
    "while run:\n",
    "    random_walk(all_turtles)\n",
    "screen.exitonclick()"
   ]
  },
  {
   "cell_type": "code",
   "execution_count": 1,
   "id": "25c1d148",
   "metadata": {},
   "outputs": [
    {
     "name": "stdout",
     "output_type": "stream",
     "text": [
      "Please Enter Emp Id :1001\n",
      "emp_data {'name': 'Mary', 'doj': '01-11-88', 'dept': 101}\n",
      "name  :  Mary\n",
      "doj  :  01-11-88\n",
      "dept  :  HRD\n"
     ]
    }
   ],
   "source": [
    "dept_db = {\n",
    "      101 : 'HRD',\n",
    "      102 : 'FINANCE',\n",
    "      103 : 'ACCOUNTS',\n",
    "      104 : 'SALES',\n",
    "      105 : 'ENGINEERING',\n",
    "      106 : 'SUPPORT'\n",
    "     }\n",
    " \n",
    "\n",
    "employee_db = { \n",
    "1000: dict(name=\"Alex\",   doj='01-10-89',dept=103),\n",
    "1001: dict(name=\"Mary\",   doj='01-11-88', dept=101),\n",
    "1002: dict(name=\"John\",   doj='01-10-87', dept=104),\n",
    "1003: dict(name=\"David\",  doj='01-06-89', dept=105),\n",
    "1004: dict(name=\"Anne\",   doj='01-01-86', dept=106),\n",
    "1005: dict(name=\"Samson\", doj='01-02-89', dept=101)\n",
    "}\n",
    "\n",
    " \n",
    "def get_emp_info(emp_id):\n",
    "    if emp_id in employee_db:\n",
    "        return employee_db[emp_id]\n",
    "    else:\n",
    "        print(emp_id, \" doesn't exists \")\n",
    "        return\n",
    "\n",
    "\n",
    "def get_dept_info(dept_id):\n",
    "    if dept_id in dept_db:\n",
    "        #print(\"dept_db[dept_id]\",dept_db[dept_id])\n",
    "        return dept_db[dept_id]\n",
    "    else:\n",
    "        print(dept_id, \" doesn't exists \")\n",
    "        return\n",
    "\n",
    "\n",
    "def display_emp_data(emp_data):\n",
    "    #print('emp_data',emp_data)\n",
    "    for key,value in emp_data.items():\n",
    "        if key == 'dept':\n",
    "            print(key, \" : \", get_dept_info(value))\n",
    "        else:\n",
    "            print(key, \" : \", value)\n",
    "\n",
    "\n",
    "emp_id = int(input(\"Please Enter Emp Id :\"))\n",
    "\n",
    "emp_data = get_emp_info(emp_id)\n",
    "\n",
    "if emp_data:\n",
    "    display_emp_data(emp_data)"
   ]
  },
  {
   "cell_type": "code",
   "execution_count": 7,
   "id": "d8d7c95f",
   "metadata": {},
   "outputs": [
    {
     "name": "stdout",
     "output_type": "stream",
     "text": [
      "Enter the price :600\n",
      "SMART WATCH  :  550\n",
      "PLAYSTATION  :  500\n",
      "MUSIC PLAYER  :  600\n",
      "TABLET  :  400\n"
     ]
    }
   ],
   "source": [
    "products = {\n",
    "            'SMART WATCH': 550,\n",
    "            'PHONE' : 1000,\n",
    "            'PLAYSTATION': 500,\n",
    "            'LAPTOP' : 1550,\n",
    "            'MUSIC PLAYER' : 600,\n",
    "            'TABLET' : 400 \n",
    "           }\n",
    "\n",
    "def display_product(products_db, price):\n",
    "    for item in products_db:\n",
    "        #print('item',item)\n",
    "        if products_db[item] <= price:\n",
    "            print(item, \" : \",products_db[item])\n",
    "    \n",
    "input_price = int(input(\"Enter the price :\"))\n",
    "\n",
    "display_product(products, input_price)"
   ]
  },
  {
   "cell_type": "markdown",
   "id": "6f7d329d",
   "metadata": {},
   "source": [
    "### Bài 2\n",
    "\n",
    "Hãy nhập vào một số\n",
    "\n",
    "Xác định coi đó có phải là số nguyên tố hay không"
   ]
  },
  {
   "cell_type": "code",
   "execution_count": 28,
   "id": "049c85f5",
   "metadata": {},
   "outputs": [
    {
     "name": "stdout",
     "output_type": "stream",
     "text": [
      "n: 16\n",
      "16  không là số nguyên tố\n"
     ]
    }
   ],
   "source": [
    "import math\n",
    "n = int(input('n: '))\n",
    "n1 = math.ceil(math.sqrt(n))\n",
    "a = 0\n",
    "\n",
    "if n == 2:\n",
    "    print(n,' là số nguyên tố')\n",
    "else:\n",
    "    for i in [2,n1]:\n",
    "        if n % i == 0:\n",
    "            a = 1\n",
    "            break\n",
    "\n",
    "    if a == 1:\n",
    "        print (n, ' không là số nguyên tố')\n",
    "    if a == 0:\n",
    "        print(n, 'là số nguyên tố')   "
   ]
  },
  {
   "cell_type": "markdown",
   "id": "75f7717b",
   "metadata": {},
   "source": [
    "### Bài 3\n",
    "\n",
    "Hãy nhập vào số n\n",
    "\n",
    "Hãy đếm số chữ số 0 tận cùng của n giai thừa\n",
    "\n",
    "(Bài này nâng cao, mọi người có thể bỏ qua)"
   ]
  },
  {
   "cell_type": "code",
   "execution_count": 14,
   "id": "789e0e76",
   "metadata": {},
   "outputs": [
    {
     "ename": "KeyError",
     "evalue": "'i'",
     "output_type": "error",
     "traceback": [
      "\u001b[1;31m---------------------------------------------------------------------------\u001b[0m",
      "\u001b[1;31mKeyError\u001b[0m                                  Traceback (most recent call last)",
      "Input \u001b[1;32mIn [14]\u001b[0m, in \u001b[0;36m<cell line: 11>\u001b[1;34m()\u001b[0m\n\u001b[0;32m     11\u001b[0m \u001b[38;5;28;01mfor\u001b[39;00m i \u001b[38;5;129;01min\u001b[39;00m a:\n\u001b[0;32m     13\u001b[0m     count \u001b[38;5;241m+\u001b[39m\u001b[38;5;241m=\u001b[39m a[i]\n\u001b[1;32m---> 14\u001b[0m     \u001b[38;5;28mprint\u001b[39m(i,\u001b[43ma\u001b[49m\u001b[43m[\u001b[49m\u001b[38;5;124;43m'\u001b[39;49m\u001b[38;5;124;43mi\u001b[39;49m\u001b[38;5;124;43m'\u001b[39;49m\u001b[43m]\u001b[49m)\n\u001b[0;32m     16\u001b[0m \u001b[38;5;28mprint\u001b[39m(count)\n",
      "\u001b[1;31mKeyError\u001b[0m: 'i'"
     ]
    }
   ],
   "source": [
    "a = {}\n",
    "\n",
    "a[1] = 1\n",
    "\n",
    "a['1'] = 2\n",
    "\n",
    "a[1.0]=4\n",
    "\n",
    "count = 0\n",
    "\n",
    "for i in a:\n",
    "\n",
    "    count += a[i]\n",
    "    print(i,a[i])\n",
    "\n",
    "print(count)"
   ]
  },
  {
   "cell_type": "markdown",
   "id": "29cd6c81",
   "metadata": {},
   "source": [
    "### Bài 4\n",
    "\n",
    "In ra tất cả các số chia hết cho 3 nhỏ hơn 100"
   ]
  },
  {
   "cell_type": "code",
   "execution_count": null,
   "id": "0b848981",
   "metadata": {},
   "outputs": [],
   "source": []
  },
  {
   "cell_type": "markdown",
   "id": "04dbf99b",
   "metadata": {},
   "source": [
    "### Bài 5\n",
    "\n",
    "In ra tất cả các số lẻ nhưng không chia hết cho 3 nhỏ hơn 100"
   ]
  },
  {
   "cell_type": "code",
   "execution_count": null,
   "id": "769eb439",
   "metadata": {},
   "outputs": [],
   "source": []
  },
  {
   "cell_type": "markdown",
   "id": "26dd47fb",
   "metadata": {},
   "source": [
    "### Bài 5\n",
    "\n",
    "Tại một cửa hàng nọ có menu như sau:\n",
    "\n",
    "1. Gà rán giá 35k\n",
    "2. Hamburger giá 50k\n",
    "3. Pesi giá 10k\n",
    "\n",
    "Nhập số lượng món hàng cần mua\n",
    "\n",
    "Tính và in ra tổng giá tiền (hiển thị có dấu chấm mỗi 3 chữ số để người dùng để quan sát)\n",
    "\n",
    "Nếu giá trị đơn hàng trên 2 triệu, giảm 10% cho khách, trên 4 triệu, giảm 15%\n",
    "\n",
    "Tính và in ra tổng giá tiền được giảm (hiển thị có dấu chấm mỗi 3 chữ số để người dùng để quan sát)\n",
    "\n",
    "Tính và in ra tổng giá tiền khách cần trả (hiển thị có dấu chấm mỗi 3 chữ số để người dùng để quan sát)\n",
    "\n",
    "In ra dòng chữ \"Cảm ơn quý khách đã mua hàng\""
   ]
  },
  {
   "cell_type": "code",
   "execution_count": null,
   "id": "8509df1e",
   "metadata": {},
   "outputs": [],
   "source": []
  },
  {
   "cell_type": "markdown",
   "id": "ab10a1ce",
   "metadata": {},
   "source": [
    "### Bài 6\n",
    "\n",
    "Nhập vào chiều cao (cm) và cân nặng (kg), tính số BMI và xét rồi xin kết quả theo dữ liệu sau:\n",
    "\n",
    "- BMI < 16: Gầy cấp độ III\n",
    "- 16 <= BMI < 17:  Gầy cấp độ II\n",
    "- 17<= BMI < 18.5: Gầy cấp độ I\n",
    "- 18.5 <= BMI < 25: Bình thường\n",
    "- 25 <= BMI < 30: Thừa cân\n",
    "- 30 <= BMI < 35 : Béo phì cấp độ I\n",
    "- 35 <= BMI < 40: Béo phì cấp độ II\n",
    "- BMI > 40: Béo phì cấp độ III"
   ]
  },
  {
   "cell_type": "code",
   "execution_count": null,
   "id": "1058f441",
   "metadata": {},
   "outputs": [],
   "source": []
  },
  {
   "cell_type": "markdown",
   "id": "f7620342",
   "metadata": {},
   "source": [
    "### Bài 7\n",
    "\n",
    "Nhập ngày, tháng, năm. Hãy tính và in ra màn hình kể từ đầu năm đến ngày vừa nhập là bao nhiêu ngày."
   ]
  },
  {
   "cell_type": "code",
   "execution_count": 1,
   "id": "4c57f0a5",
   "metadata": {},
   "outputs": [
    {
     "name": "stdout",
     "output_type": "stream",
     "text": [
      "Nhap vao ngay: 7\n",
      "Nhap vao thang: 8\n",
      "Nhap vao nam: 203\n",
      "219\n"
     ]
    }
   ],
   "source": [
    "ng = int(input('Nhap vao ngay: '))\n",
    "th = int(input('Nhap vao thang: '))\n",
    "n = int(input('Nhap vao nam: '))\n",
    "days = 0\n",
    "# kiem tra nam nhuan\n",
    "nam_nhuan = False\n",
    "if n % 100 == 0:\n",
    "    if n % 400 == 0:\n",
    "        nam_nhuan = True\n",
    "elif n % 4 == 0:\n",
    "    nam_nhuan == True\n",
    "if th == 1:\n",
    "    days = ng\n",
    "else:\n",
    "    #print('nam nhuan',nam_nhuan)\n",
    "    if nam_nhuan:\n",
    "        # dem so ngay theo thang (den truoc thang nhap)\n",
    "        k = 1\n",
    "        for i in range(th - 1):\n",
    "            if k == 1 or k == 3 or k == 5 or k == 7 or k == 8 or k == 10 or k == 12:\n",
    "                days += 31\n",
    "            elif k == 2:\n",
    "                days += 29\n",
    "            else:\n",
    "                days += 30\n",
    "            k += 1\n",
    "        # cong them so ngay con lai cua thang nhap\n",
    "        days += ng\n",
    "    else:\n",
    "        # dem so ngay theo thang (den truoc thang nhap)\n",
    "        k = 1\n",
    "        for i in range(th - 1):\n",
    "            if k == 1 or k == 3 or k == 5 or k == 7 or k == 8 or k == 10 or k == 12:\n",
    "                days += 31\n",
    "            elif k == 2:\n",
    "                days += 28\n",
    "            else:\n",
    "                days += 30\n",
    "            k += 1\n",
    "        # cong them so ngay con lai cua thang nhap\n",
    "        days += ng\n",
    "print(days)"
   ]
  }
 ],
 "metadata": {
  "kernelspec": {
   "display_name": "Python 3 (ipykernel)",
   "language": "python",
   "name": "python3"
  },
  "language_info": {
   "codemirror_mode": {
    "name": "ipython",
    "version": 3
   },
   "file_extension": ".py",
   "mimetype": "text/x-python",
   "name": "python",
   "nbconvert_exporter": "python",
   "pygments_lexer": "ipython3",
   "version": "3.10.4"
  }
 },
 "nbformat": 4,
 "nbformat_minor": 5
}
