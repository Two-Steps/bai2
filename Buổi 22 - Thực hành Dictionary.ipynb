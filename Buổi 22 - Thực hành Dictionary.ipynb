{
 "cells": [
  {
   "cell_type": "markdown",
   "id": "636d6b20",
   "metadata": {},
   "source": [
    "# Thực hành Dictionary"
   ]
  },
  {
   "cell_type": "markdown",
   "id": "4a1577c4",
   "metadata": {},
   "source": [
    "### Bài 1"
   ]
  },
  {
   "cell_type": "markdown",
   "id": "57583ad7",
   "metadata": {},
   "source": [
    "Cho list a và list b là 2 dãy số bất kỳ\n",
    "\n",
    "Hãy tìm những phần tử trong 2 list trùng nhau và in toàn bộ ra màn hình\n",
    "\n",
    "Ví dụ:\n",
    "\n",
    "a = [2,4,5,7,9]\n",
    "\n",
    "b = [2,5,10,12,45,65]\n",
    "\n",
    "in ra: 2, 5"
   ]
  },
  {
   "cell_type": "markdown",
   "id": "3bf52ad2",
   "metadata": {},
   "source": [
    "#### Khai báo list"
   ]
  },
  {
   "cell_type": "code",
   "execution_count": 9,
   "id": "ff4b8cef",
   "metadata": {},
   "outputs": [
    {
     "name": "stdout",
     "output_type": "stream",
     "text": [
      "2 5 "
     ]
    }
   ],
   "source": [
    "a = [2,4,5,7,9]\n",
    "b = [2,5,10,12,45,65]\n",
    "same = []\n",
    "for i in a:\n",
    "    if i in b:\n",
    "        same.append(i)\n",
    "if len(same) != 0:\n",
    "    for i in same:\n",
    "        print(i, end = ' ')\n",
    "else:\n",
    "    print('Không có phần tử trùng nhau')"
   ]
  },
  {
   "cell_type": "markdown",
   "id": "f7b1767c",
   "metadata": {},
   "source": [
    "#### Code"
   ]
  },
  {
   "cell_type": "code",
   "execution_count": null,
   "id": "8d0bc5c0",
   "metadata": {},
   "outputs": [],
   "source": []
  },
  {
   "cell_type": "markdown",
   "id": "2646ccba",
   "metadata": {},
   "source": [
    "### Bài 2"
   ]
  },
  {
   "cell_type": "markdown",
   "id": "6cc6dc38",
   "metadata": {},
   "source": [
    "Cho một dictonary có các giá trị là các số nguyên\n",
    "\n",
    "Hãy viết hàm tìm key có giá trị lớn nhất"
   ]
  },
  {
   "cell_type": "markdown",
   "id": "7b92f0ce",
   "metadata": {},
   "source": [
    "#### Khai báo dictionary"
   ]
  },
  {
   "cell_type": "code",
   "execution_count": 19,
   "id": "3ec8ec73",
   "metadata": {},
   "outputs": [
    {
     "name": "stdout",
     "output_type": "stream",
     "text": [
      "Key có giá trị lớn nhất: 34\n"
     ]
    }
   ],
   "source": [
    "d = {1: -4, 2: -12, 3: -9, 15: -2, 34: -1}\n",
    "def find_max(dic):\n",
    "    m = None\n",
    "    for i in dic:\n",
    "        if m == None or dic[m] < dic[i]:  \n",
    "            m = i\n",
    "    return m\n",
    "print('Key có giá trị lớn nhất:', find_max(d), sep= ' ')"
   ]
  },
  {
   "cell_type": "markdown",
   "id": "65018ab5",
   "metadata": {},
   "source": [
    "#### Code"
   ]
  },
  {
   "cell_type": "code",
   "execution_count": null,
   "id": "e7a165eb",
   "metadata": {},
   "outputs": [],
   "source": []
  },
  {
   "cell_type": "markdown",
   "id": "c562bc84",
   "metadata": {},
   "source": [
    "### Bài 3"
   ]
  },
  {
   "cell_type": "markdown",
   "id": "945e8929",
   "metadata": {},
   "source": [
    "Cho một dictonary có các key đều là chuỗi\n",
    "\n",
    "Hãy viết hàm trả về giá trị của key có độ dài chuỗi là lớn nhất"
   ]
  },
  {
   "cell_type": "markdown",
   "id": "1855bc8c",
   "metadata": {},
   "source": [
    "#### Khai báo dictionary"
   ]
  },
  {
   "cell_type": "code",
   "execution_count": 25,
   "id": "5ff9a0e5",
   "metadata": {},
   "outputs": [
    {
     "data": {
      "text/plain": [
       "304"
      ]
     },
     "execution_count": 25,
     "metadata": {},
     "output_type": "execute_result"
    }
   ],
   "source": [
    "d1 = {'one': 214, 'two': 'this is my name', 'three': 304}\n",
    "def find_long_key(d):\n",
    "    k = None\n",
    "    v = None\n",
    "    for i in d:\n",
    "        if k == None or len(k) < len(i):\n",
    "            k = i\n",
    "            v = d[i]\n",
    "    return v\n",
    "find_long_key(d1)"
   ]
  },
  {
   "cell_type": "markdown",
   "id": "21fae59d",
   "metadata": {},
   "source": [
    "#### Code"
   ]
  },
  {
   "cell_type": "code",
   "execution_count": null,
   "id": "b3c2194d",
   "metadata": {},
   "outputs": [],
   "source": []
  },
  {
   "cell_type": "markdown",
   "id": "205c6ef4",
   "metadata": {},
   "source": [
    "### Bài 4"
   ]
  },
  {
   "cell_type": "markdown",
   "id": "bd7ee674",
   "metadata": {},
   "source": [
    "Cho một list là một tập các chuỗi\n",
    "\n",
    "Hãy mã hóa list trên theo nguyên tắc sau:\n",
    "\n",
    "Mỗi một phần tử, ta mã hóa thành những con số theo thứ tự tăng dần\n",
    "\n",
    "Ví dụ:\n",
    "\n",
    "List = [\"đen\",\"vàng\",\"xanh\",\"vàng\",\"xanh\",\"đỏ\",\"hồng\"]\n",
    "\n",
    "List mã hóa = [0,1,2,1,2,3,4]\n",
    "\n",
    "- \"đen\" mã hóa thành 0\n",
    "- \"vàng\" mã hóa thành 1\n",
    "- \"xanh\" mã hóa thành 2\n",
    "- \"đỏ\" mã hòa thánh 3\n",
    "- \"hồng\" mã hòa thành 4"
   ]
  },
  {
   "cell_type": "markdown",
   "id": "e7ed3048",
   "metadata": {},
   "source": [
    "#### Khai báo"
   ]
  },
  {
   "cell_type": "code",
   "execution_count": 42,
   "id": "7573ae07",
   "metadata": {},
   "outputs": [
    {
     "name": "stdout",
     "output_type": "stream",
     "text": [
      "[0, 1, 2, 3, 1, 3, 4, 5, 2]\n"
     ]
    }
   ],
   "source": [
    "D = {}\n",
    "k = 0\n",
    "L = []\n",
    "List = [\"đen\",\"vàng\", \"tím\", \"xanh\",\"vàng\",\"xanh\",\"đỏ\",\"hồng\", \"tím\"]\n",
    "for i in List:\n",
    "    if i not in D:\n",
    "        D[i] = k\n",
    "        L.append(D[i])\n",
    "        k += 1\n",
    "    else:\n",
    "        L.append(D[i])\n",
    "print(L)"
   ]
  },
  {
   "cell_type": "markdown",
   "id": "9c61e63b",
   "metadata": {},
   "source": [
    "#### Code"
   ]
  },
  {
   "cell_type": "code",
   "execution_count": 43,
   "id": "3e3cdf86",
   "metadata": {},
   "outputs": [
    {
     "name": "stdout",
     "output_type": "stream",
     "text": [
      "{'đen': 0, 'vàng': 1, 'tím': 2, 'xanh': 3, 'đỏ': 4, 'hồng': 5}\n",
      "[0, 1, 2, 3, 1, 3, 4, 5, 2]\n"
     ]
    }
   ],
   "source": [
    "l = [\"đen\",\"vàng\", \"tím\", \"xanh\",\"vàng\",\"xanh\",\"đỏ\",\"hồng\", \"tím\"]\n",
    "d = {}\n",
    "k = 0\n",
    "ma_hoa = []\n",
    "for i in l:\n",
    "    if i not in d:\n",
    "        d[i] = k\n",
    "        k += 1\n",
    "for i in l:\n",
    "    ma_hoa.append(d[i])\n",
    "print(d)\n",
    "print(ma_hoa)"
   ]
  },
  {
   "cell_type": "markdown",
   "id": "8de66962",
   "metadata": {},
   "source": [
    "### Bài 5"
   ]
  },
  {
   "cell_type": "markdown",
   "id": "1e5c416d",
   "metadata": {},
   "source": [
    "Hãy viết hàm từ một list mã hóa, trả về list gốc của bài 4"
   ]
  },
  {
   "cell_type": "markdown",
   "id": "4881b7b0",
   "metadata": {},
   "source": [
    "#### Khai báo"
   ]
  },
  {
   "cell_type": "code",
   "execution_count": 48,
   "id": "602c7b70",
   "metadata": {},
   "outputs": [
    {
     "data": {
      "text/plain": [
       "['đen', 'vàng', 'tím', 'xanh', 'vàng', 'xanh', 'đỏ', 'hồng', 'tím']"
      ]
     },
     "execution_count": 48,
     "metadata": {},
     "output_type": "execute_result"
    }
   ],
   "source": [
    "d = {'đen': 0, 'vàng': 1, 'tím': 2, 'xanh': 3, 'đỏ': 4, 'hồng': 5}\n",
    "l = [0, 1, 2, 3, 1, 3, 4, 5, 2]\n",
    "# l_kq = [\"đen\",\"vàng\", \"tím\", \"xanh\",\"vàng\",\"xanh\",\"đỏ\",\"hồng\", \"tím\"]\n",
    "def giai_ma(dic, lis):\n",
    "    l_kq = []\n",
    "    for i in lis:\n",
    "        for j in dic:\n",
    "            if i == dic[j]:\n",
    "                l_kq.append(j)\n",
    "                break\n",
    "    return l_kq\n",
    "giai_ma(d,l)"
   ]
  },
  {
   "cell_type": "markdown",
   "id": "9a738638",
   "metadata": {},
   "source": [
    "#### Code"
   ]
  },
  {
   "cell_type": "code",
   "execution_count": null,
   "id": "df4fb3a1",
   "metadata": {},
   "outputs": [],
   "source": []
  },
  {
   "cell_type": "markdown",
   "id": "1a982dc5",
   "metadata": {},
   "source": [
    "### Bài 6"
   ]
  },
  {
   "cell_type": "markdown",
   "id": "726f6302",
   "metadata": {},
   "source": [
    "Một khách sạn có N phòng đôi được đánh số từ 1 đến N và M đoàn khách.\n",
    "\n",
    "Với mỗi đoàn khách, ta xếp mỗi cặp khách của đoàn vào một phòng trống theo thứ tự phòng tăng dần.\n",
    "\n",
    "Nếu đoàn khách có số người lẻ thì người khách cuối cùng được xếp vào một phòng trống tiếp theo.\n",
    "\n",
    "Nếu đã hết phòng còn trống thì ta sẽ xếp khách vào những phòng mới chỉ có 1 khách theo thứ tự phòng tăng dần.\n",
    "\n",
    "In ra số khách của mỗi phòng sau khi xếp\n",
    "\n",
    "Giả sử không có 2 đoàn khách nào đến cùng một lúc.\n",
    "\n",
    "#### Ví dụ 1:\n",
    "\n",
    "N = 7, M = 3\n",
    "\n",
    "doankhach = [3,7,3]\n",
    "\n",
    "Ta in: 2, 2, 2, 2, 2, 1, 2\n",
    "\n",
    "#### Ví dụ 2:\n",
    "\n",
    "N = 5, M = 3\n",
    "\n",
    "doankhach = [2,3,2]\n",
    "\n",
    "Ta in: 2, 2, 1, 2, 0"
   ]
  },
  {
   "cell_type": "markdown",
   "id": "e3346872",
   "metadata": {},
   "source": [
    "#### Khai báo"
   ]
  },
  {
   "cell_type": "code",
   "execution_count": 73,
   "id": "9f73da45",
   "metadata": {},
   "outputs": [
    {
     "name": "stdout",
     "output_type": "stream",
     "text": [
      "dict_values([2, 2, 1, 2, 0])\n"
     ]
    }
   ],
   "source": [
    "# N = 7\n",
    "# doan_khach = [3, 7, 3]\n",
    "# M = len(doan_khach)\n",
    "N = 5\n",
    "doan_khach = [2, 3, 2]\n",
    "M = len(doan_khach)\n",
    "d = {}\n",
    "# Ta in: 2, 2, 2, 2, 2, 1, 2\n",
    "for i in range(1, N + 1):\n",
    "    d[i] = 0\n",
    "for i in range(M):\n",
    "    while doan_khach[i] > 0:\n",
    "        for j in d:\n",
    "            if doan_khach[i] == 1:\n",
    "                if d[j] == 0:\n",
    "                    d[j] = 1\n",
    "                    doan_khach[i] -= 1\n",
    "                elif d[j] == 1:\n",
    "                    if d[N] != 0:\n",
    "                        d[j] = 2\n",
    "                        doan_khach[i] -= 1\n",
    "                    else:\n",
    "                        continue\n",
    "                elif d[j] == 2:\n",
    "                    continue\n",
    "            elif doan_khach[i] >= 2:\n",
    "                if d[j] == 0:\n",
    "                    d[j] = 2\n",
    "                    doan_khach[i] -= 2\n",
    "                elif d[j] == 1:\n",
    "                    if d[N] != 0:\n",
    "                        d[j] = 2\n",
    "                        doan_khach[i] -= 1\n",
    "                    else:\n",
    "                        continue\n",
    "                elif d[j] == 2:\n",
    "                    continue\n",
    "print(d.values())"
   ]
  },
  {
   "cell_type": "markdown",
   "id": "8f3d747c",
   "metadata": {},
   "source": [
    "#### Code"
   ]
  },
  {
   "cell_type": "code",
   "execution_count": null,
   "id": "b19e56c9",
   "metadata": {},
   "outputs": [],
   "source": []
  }
 ],
 "metadata": {
  "kernelspec": {
   "display_name": "Python 3 (ipykernel)",
   "language": "python",
   "name": "python3"
  },
  "language_info": {
   "codemirror_mode": {
    "name": "ipython",
    "version": 3
   },
   "file_extension": ".py",
   "mimetype": "text/x-python",
   "name": "python",
   "nbconvert_exporter": "python",
   "pygments_lexer": "ipython3",
   "version": "3.10.4"
  }
 },
 "nbformat": 4,
 "nbformat_minor": 5
}
