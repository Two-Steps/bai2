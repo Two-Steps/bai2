{
 "cells": [
  {
   "cell_type": "markdown",
   "id": "028ffec3",
   "metadata": {},
   "source": [
    "# Thực hành hàm\n",
    "\n",
    "### Bài 1\n",
    "\n",
    "Viết hàm có dữ liệu đầu vào là 2 số a và b, số nào lớn hơn thì in bảng cửu chương của số đó"
   ]
  },
  {
   "cell_type": "code",
   "execution_count": 4,
   "id": "1974966b",
   "metadata": {},
   "outputs": [
    {
     "name": "stdout",
     "output_type": "stream",
     "text": [
      "9 * 1 = 9\n",
      "9 * 2 = 18\n",
      "9 * 3 = 27\n",
      "9 * 4 = 36\n",
      "9 * 5 = 45\n",
      "9 * 6 = 54\n",
      "9 * 7 = 63\n",
      "9 * 8 = 72\n",
      "9 * 9 = 81\n",
      "9 * 10 = 90\n"
     ]
    }
   ],
   "source": [
    "def less(a,b):\n",
    "    m = a\n",
    "    if a < b:\n",
    "        m = b\n",
    "    for i in range(1,11):\n",
    "        print(m, '*', i, '=', m * i)\n",
    "less(9,6)"
   ]
  },
  {
   "cell_type": "markdown",
   "id": "9de8ffaa",
   "metadata": {},
   "source": [
    "### Bài 2\n",
    "\n",
    "Viết hàm `xoachuoi` có dữ liệu đầu vào là 2 chuỗi a và b, hãy tìm trong chuỗi a có chuỗi b hay không, nếu có hãy xóa toán bộ chuỗi b trong a.\n",
    "\n",
    "Sau đó trả về chuỗi a mới\n",
    "\n",
    "Ví dụ:\n",
    "\n",
    "chuoi1 = \"xin chào các bạn, các bạn có khỏe không?\"\n",
    "\n",
    "chuoi2 = \"các bạn\"\n",
    "\n",
    "chuoi3 = xoachuoi(chuoi1,chuoi2)\n",
    "\n",
    "print(chuoi3)\n",
    "\n",
    "Kết quả in ra là:\n",
    "xin chào ,  có khỏe không"
   ]
  },
  {
   "cell_type": "code",
   "execution_count": 8,
   "id": "05de1584",
   "metadata": {},
   "outputs": [
    {
     "name": "stdout",
     "output_type": "stream",
     "text": [
      "xin chào ,  có khỏe không?\n"
     ]
    }
   ],
   "source": [
    "def xoachuoi(a,b):\n",
    "    f = a.find(b)\n",
    "    result = ''\n",
    "    if f == -1:\n",
    "        result = '-1'\n",
    "    else:\n",
    "        result = a.replace(b,'')\n",
    "    return result   \n",
    "chuoi1 = \"xin chào các bạn, các bạn có khỏe không?\"\n",
    "chuoi2 = \"các bạn\"\n",
    "r = xoachuoi(chuoi1,chuoi2)\n",
    "if r == '-1':\n",
    "    print('Chuỗi:', chuoi1, 'không chứa:',chuoi2)\n",
    "else:\n",
    "    print(r)"
   ]
  },
  {
   "cell_type": "code",
   "execution_count": 13,
   "id": "572f9a7a",
   "metadata": {},
   "outputs": [
    {
     "name": "stdout",
     "output_type": "stream",
     "text": [
      "xin chào ,  có khỏe không?\n"
     ]
    }
   ],
   "source": [
    "def xoachuoi(a,b):\n",
    "    while a.find(b) != -1:\n",
    "        f = a.find(b)\n",
    "        a = a[0:f] + a[(f + len(b)):]\n",
    "    return a\n",
    "chuoi1 = \"xin chào các bạn, các bạn có khỏe không?\"\n",
    "chuoi2 = \"các bạn\"\n",
    "r = xoachuoi(chuoi1,chuoi2)\n",
    "print(r)"
   ]
  },
  {
   "cell_type": "code",
   "execution_count": 12,
   "id": "aeae39cf",
   "metadata": {},
   "outputs": [
    {
     "name": "stdout",
     "output_type": "stream",
     "text": [
      "sfasfs\n"
     ]
    }
   ],
   "source": [
    "def xoachuoi(a,b):\n",
    "    c = \"\"\n",
    "    k = 0\n",
    "    d = len(b)\n",
    "    i = 0\n",
    "    while i < len(a):\n",
    "        if a[i:i+d] == b:\n",
    "            i += d\n",
    "            continue\n",
    "        c += a[i]\n",
    "        i += 1\n",
    "    return c"
   ]
  },
  {
   "cell_type": "markdown",
   "id": "d626394e",
   "metadata": {},
   "source": [
    "### Bài 3\n",
    "\n",
    "Viết hàm `kiemtramatkhau` với dữ liệu đầu vào là 1 chuỗi có công dụng như sau:\n",
    "\n",
    "Kiểm tra xem chuỗi đầu vào có phải là mật khẩu mạnh hay không, nếu có trả về True, nếu không trả về False\n",
    "\n",
    "Mật khẩu mạnh là mật khẩu phải có ít nhất 1 chữ hoa, 1 chữ thường, 1 số và 1 ký tự đặc biệt"
   ]
  },
  {
   "cell_type": "code",
   "execution_count": 39,
   "id": "875d88f5",
   "metadata": {},
   "outputs": [
    {
     "name": "stdout",
     "output_type": "stream",
     "text": [
      "alpha True num False spec True\n"
     ]
    }
   ],
   "source": [
    "import string\n",
    "# cac ky tu chu trong class string\n",
    "LETTER = string.ascii_letters\n",
    "# cac ky tu so trong class string\n",
    "NUMBER = string.digits\n",
    "# cac ky tu dac biet trong class string\n",
    "PUNCTUATION = string.punctuation\n",
    "\n",
    "# check alpha ở đây là check có chữ hoa hoặc thường => khác đề bài\n",
    "s = 'gmail@123'\n",
    "check_alpha = False\n",
    "check_num = False\n",
    "check_spec = False\n",
    "for i in s:\n",
    "    if i in LETTER:\n",
    "        check_alpha = True\n",
    "        break\n",
    "for i in s:\n",
    "    if i in NUMBER:\n",
    "        check_num = True\n",
    "        break\n",
    "for i in s:\n",
    "    if i in PUNCTUATION:\n",
    "        check_spec = True\n",
    "        break\n",
    "print('alpha',check_alpha,'num',check_num,'spec',check_spec)"
   ]
  },
  {
   "cell_type": "code",
   "execution_count": 36,
   "id": "89ee44b1",
   "metadata": {},
   "outputs": [
    {
     "name": "stdout",
     "output_type": "stream",
     "text": [
      "False\n"
     ]
    }
   ],
   "source": [
    "def kiemtramatkhau(s):\n",
    "    check_upper = False\n",
    "    check_lower = False\n",
    "    check_num = False\n",
    "    check_spec = False\n",
    "    for i in s:\n",
    "        if i.isupper():\n",
    "            check_upper = True\n",
    "            break\n",
    "    for i in s:\n",
    "        if i.islower():\n",
    "            check_lower = True\n",
    "            break\n",
    "    for i in s:\n",
    "        if i.isnumeric():\n",
    "            check_num = True\n",
    "            break\n",
    "    for i in s:\n",
    "        if not i.isnumeric() and not i.islower() and not i.isupper() and not i == ' ':\n",
    "            check_spec = True\n",
    "            break\n",
    "    check_strong = check_upper and check_lower and check_num and check_spec\n",
    "    return check_strong\n",
    "x = kiemtramatkhau('gmail@123')\n",
    "print(x)"
   ]
  },
  {
   "cell_type": "code",
   "execution_count": 4,
   "id": "c03055d2",
   "metadata": {},
   "outputs": [
    {
     "name": "stdout",
     "output_type": "stream",
     "text": [
      "False\n"
     ]
    }
   ],
   "source": [
    "def kiemtramatkhau(s):\n",
    "    check_upper = False\n",
    "    check_lower = False\n",
    "    check_num = False\n",
    "    check_spec = False\n",
    "    \n",
    "    for i in s:\n",
    "        if i.isupper():\n",
    "            check_upper = True\n",
    "        elif i.islower():\n",
    "            check_lower = True\n",
    "        elif i.isnumeric():\n",
    "            check_num = True\n",
    "        else:\n",
    "            check_spec = True\n",
    "    check_strong = check_upper and check_lower and check_num and check_spec\n",
    "    return check_strong  \n",
    "x = kiemtramatkhau('Gmail@123')\n",
    "print(x)"
   ]
  },
  {
   "cell_type": "markdown",
   "id": "1572568f",
   "metadata": {},
   "source": [
    "### Bài 4\n",
    "\n",
    "Viết hàm có 5 dữ liệu đầu vào là 5 số nguyên, tìm giá trị lớn nhì trong 5 số đó"
   ]
  },
  {
   "cell_type": "code",
   "execution_count": 7,
   "id": "876707ae",
   "metadata": {},
   "outputs": [
    {
     "name": "stdout",
     "output_type": "stream",
     "text": [
      "999\n"
     ]
    }
   ],
   "source": [
    "def findmax2(a,b,c,d,e):\n",
    "    m = a\n",
    "    if b > m:\n",
    "        m = b\n",
    "    if c > m:\n",
    "        m = c\n",
    "    if d > m:\n",
    "        m = d\n",
    "    if e > m:\n",
    "        m = e\n",
    "    m2 = a\n",
    "    if b > m2 and b != m:\n",
    "        m2 = b\n",
    "    if c > m2 and c != m:\n",
    "        m2 = c\n",
    "    if d > m2 and d != m:\n",
    "        m2 = d\n",
    "    if e > m2 and e != m:\n",
    "        m2 = e\n",
    "    return m2\n",
    "n = findmax2(999,763,1024,65,31)\n",
    "print(n)"
   ]
  },
  {
   "cell_type": "code",
   "execution_count": null,
   "id": "1c1dd8c7",
   "metadata": {},
   "outputs": [],
   "source": [
    "def findmax2(a,b,c,d,e):\n",
    "    m = a\n",
    "    "
   ]
  },
  {
   "cell_type": "markdown",
   "id": "974d7da1",
   "metadata": {},
   "source": [
    "### Bài 5\n",
    "\n",
    "Nhập vào 2 cặp tọa độ tâm đường tròn và 2 bán kính R\n",
    "\n",
    "Hãy vẽ 2 hình tròn theo tọa độ và bán kính trên (tọa độ thứ nhất và bán kính thứ nhất là hình tròn thứ nhất, tọa độ thứ 2 với bán kính thứ 2 là hình tròn thứ hai)\n",
    "\n",
    "Viết hàm kiểm tra xem 2 hình tròn trên cắt nhau bao nhiêu điểm"
   ]
  },
  {
   "cell_type": "code",
   "execution_count": 1,
   "id": "f7722021",
   "metadata": {
    "scrolled": false
   },
   "outputs": [
    {
     "name": "stdout",
     "output_type": "stream",
     "text": [
      "Nhập vào tọa độ tâm đường tròn thứ nhất(vd: 0,0): 0,0\n",
      "Nhập vào bán kính đường tròn thứ nhất: 100\n",
      "Nhập vào tọa độ tâm đường tròn thứ hai(vd: 0,0): 80,0\n",
      "Nhập vào bán kính đường tròn thứ hai: 50\n",
      "Hai đường tròn cắt nhau tại: 2 điểm\n"
     ]
    }
   ],
   "source": [
    "import turtle\n",
    "\n",
    "t = turtle.Turtle()\n",
    "c1 = input('Nhập vào tọa độ tâm đường tròn thứ nhất(vd: 0,0): ')\n",
    "r1 = float(input('Nhập vào bán kính đường tròn thứ nhất: '))\n",
    "c2 = input('Nhập vào tọa độ tâm đường tròn thứ hai(vd: 0,0): ')\n",
    "r2 = float(input('Nhập vào bán kính đường tròn thứ hai: '))\n",
    "c1x = c1y = 0\n",
    "c2x = c2y = 0\n",
    "\n",
    "for i in range(len(c1)):\n",
    "    if c1[i] == ',':\n",
    "        c1x = int(c1[0:i])\n",
    "        c1y = int(c1[i+1:])\n",
    "for j in range(len(c2)):\n",
    "    if c2[j] == ',':\n",
    "        c2x = int(c2[0:j])\n",
    "        c2y = int(c2[j+1:])\n",
    "#print(c1x,c1y,c2x,c2y)\n",
    "t.penup()\n",
    "t.goto(c1x,c1y - r1)\n",
    "t.pendown()\n",
    "t.circle(r1)\n",
    "\n",
    "t.penup()\n",
    "t.goto(c2x,c2y - r2)\n",
    "t.pendown()\n",
    "t.circle(r2)\n",
    "\n",
    "def kt(c1x, c1y, r1, c2x, c2y, r2):\n",
    "    r1r2 = ((c1x - c2x)**2 + (c1y - c2y)**2)**0.5\n",
    "    abs_r1r2 = abs(r1 - r2)\n",
    "    add_r1r2 = r1 + r2\n",
    "    if r1r2 > add_r1r2:\n",
    "        return 0\n",
    "    elif r1r2 == add_r1r2:\n",
    "        return 1\n",
    "    elif abs_r1r2 < r1r2 < add_r1r2:\n",
    "        return 2\n",
    "    elif r1r2 == abs_r1r2:\n",
    "        return 1\n",
    "    else:\n",
    "        return 0\n",
    "a = kt(c1x, c1y, r1, c2x, c2y, r2)\n",
    "print('Hai đường tròn cắt nhau tại:', a, 'điểm')\n",
    "turtle.done()"
   ]
  },
  {
   "cell_type": "markdown",
   "id": "a2157de8",
   "metadata": {},
   "source": [
    "### Bài 6\n",
    "\n",
    "Nhập vào 2 tọa độ là 2 đỉnh của một hình chữ nhật\n",
    "\n",
    "Sau đó\n",
    "\n",
    "Nhập vào tọa độ tâm đường tròn và bán kính R\n",
    "\n",
    "Hãy vẽ hình hình chữ nhật và đường tròn trên\n",
    "\n",
    "Viết hàm kiểm tra xem đường tròn trên và hình chữ nhật cắt nhau tại bao nhiêu điểm"
   ]
  },
  {
   "cell_type": "code",
   "execution_count": 1,
   "id": "e0d7b1a2",
   "metadata": {},
   "outputs": [
    {
     "name": "stdout",
     "output_type": "stream",
     "text": [
      "Nhập vào tọa độ đỉnh thứ nhất hcn(vd: 0,0): 10,20\n",
      "Nhập vào tọa độ đỉnh thứ nhất hcn(vd: 0,0): 70,50\n",
      "Nhập vào tọa độ tâm đường tròn(vd: 0,0): 50,50\n",
      "Nhập vào bán kính đường tròn: 10\n",
      "Tọa độ của N: 50.0 50.0\n",
      "Đường tròn và hình chữ nhật cắt nhau tại 2 điểm\n"
     ]
    }
   ],
   "source": [
    "import turtle\n",
    "t = turtle.Turtle()\n",
    "t.speed(0)\n",
    "\n",
    "def hinhtron(x,y,r):\n",
    "    t.pu()\n",
    "    t.goto(x,y)\n",
    "    t.pd()\n",
    "    #t.write('0')\n",
    "    t.pu()\n",
    "    t.goto(x,y -r)\n",
    "    t.pd()\n",
    "    t.circle(r)\n",
    "    \n",
    "def hinhchunhat(xA,yA,xB,yB):\n",
    "    if xA < xB and yA > yB:\n",
    "        t.pu()\n",
    "        t.goto(xA,yA)\n",
    "        t.pd()\n",
    "        t.goto(xA,yB)\n",
    "        t.goto(xB,yB)\n",
    "        t.goto(xB,yA)\n",
    "        t.goto(xA,yA)\n",
    "    if xA < xB and yA < yB:\n",
    "        t.pu()\n",
    "        t.goto(xA,yA)\n",
    "        t.pd()\n",
    "        t.goto(xB,yA)\n",
    "        t.goto(xB,yB)\n",
    "        t.goto(xA,yB)\n",
    "        t.goto(xA,yA)\n",
    "    if xB < xA and yB < yA:\n",
    "        t.pu()\n",
    "        t.goto(xB,yB)\n",
    "        t.pd()\n",
    "        t.goto(xA,yB)\n",
    "        t.goto(xA,yA)\n",
    "        t.goto(xB,yA)\n",
    "        t.goto(xB,yB)\n",
    "    if xB < xA and yB > yA:\n",
    "        t.pu()\n",
    "        t.goto(xB,yB)\n",
    "        t.pd()\n",
    "        t.goto(xB,yA)\n",
    "        t.goto(xA,yA)\n",
    "        t.goto(xA,yB)\n",
    "        t.goto(xB,yB)\n",
    "def hcn_htron():\n",
    "    # hình chữ nhật có 2 đỉnh là A(xA,yA) và B(xB,yB) -- lưu ý 2 đình đối nhau\n",
    "    a = input('Nhập vào tọa độ đỉnh thứ nhất hcn(vd: 0,0): ')\n",
    "    b = input('Nhập vào tọa độ đỉnh thứ nhất hcn(vd: 0,0): ')\n",
    "    o = input('Nhập vào tọa độ tâm đường tròn(vd: 0,0): ')\n",
    "    r = float(input('Nhập vào bán kính đường tròn: '))\n",
    "    xA = yA = xB = yB = xO = yO = 0\n",
    "    for i in range(len(a)):\n",
    "        if a[i] == ',':\n",
    "            xA = float(a[:i])\n",
    "            yA = float(a[i+1:])\n",
    "            \n",
    "    for i in range(len(b)):\n",
    "        if b[i] == ',':\n",
    "            xB = float(b[:i])\n",
    "            yB = float(b[i+1:])\n",
    "    \n",
    "    for i in range(len(o)):\n",
    "        if o[i] == ',':\n",
    "            xO = float(o[:i])\n",
    "            yO = float(o[i+1:])\n",
    "            \n",
    "    # vẽ các hình\n",
    "    hinhtron(xO,yO,r)\n",
    "    hinhchunhat(xA,yA,xB,yB)\n",
    "    # tìm các điểm left, right, top, bottom\n",
    "    # giả sử điểm N là điểm gần nhất từ tâm O đến hcn\n",
    "    xN = yN = 0\n",
    "    left = right = top = bottom = 0\n",
    "    \n",
    "    if xA < xB:\n",
    "        left,right = xA,xB\n",
    "    else:\n",
    "        left,right = xB,xA\n",
    "    \n",
    "    if yA < yB:\n",
    "        top,bottom = yA,yB\n",
    "    else:\n",
    "        top,bottom = yB,yA\n",
    "    \n",
    "    # so sánh để tìm ra tọa độ của điểm N\n",
    "    if xO < left:\n",
    "        xN = left\n",
    "    elif xO > right:\n",
    "        xN = right\n",
    "    else:\n",
    "        # left <= xo <= right\n",
    "        xN = xO\n",
    "    \n",
    "    if yO < top:\n",
    "        yN = top\n",
    "    elif yO > bottom:\n",
    "        yN = bottom\n",
    "    else:\n",
    "        yN = yO\n",
    "    print('Tọa độ của N:',xN,yN)\n",
    "    # tính độ dài ON để đưa ra kết luận\n",
    "    ON = ((xO - xN)**2 + (yO - yN)**2)**0.5\n",
    "    if ON != 0:\n",
    "        if ON > r:\n",
    "            print('Đường tròn và hình chữ nhật không cắt nhau')\n",
    "        elif ON == r:\n",
    "            print('Đường tròn và hình chữ nhật cắt nhau tại 1 điểm')\n",
    "        else:\n",
    "            print('Đường tròn và hình chữ nhật cắt nhau tại 2 điểm')\n",
    "    else:\n",
    "        if xO == xA and yO == yA or xO == xB and yO == yB or xO == xA and yO == yB or xO == xB and yO == yA \\\n",
    "        or left < xO < right and (yO == top or yO == bottom) or top < yO < bottom and (xO == left or xO == right):\n",
    "            print('Đường tròn và hình chữ nhật cắt nhau tại 2 điểm')\n",
    "        else:\n",
    "            print('Đường tròn nằm trong hình chữ nhật')\n",
    "\n",
    "hcn_htron()\n",
    "turtle.done()"
   ]
  },
  {
   "cell_type": "markdown",
   "id": "d1491579",
   "metadata": {},
   "source": [
    "### Bài 7\n",
    "\n",
    "Viết hàm kiểm tra số nguyên tố\n",
    "\n",
    "Viết hàm kiểm tra số hoàn hảo\n",
    "\n",
    "Viết hàm kiểm tra số chính phương\n",
    "\n",
    "Viết hàm kiểm tra số Armstrong\n",
    "\n",
    "Nhập vào một chuỗi, hãy lọc và tìm ra những số ở trong chuỗi (2 chữ số liền nhau là một số)\n",
    "\n",
    "Ví dụ chuỗi: \"AB25SDc5DSjjh52\"\n",
    "\n",
    "Trong chuỗi này ta có 3 số: 25, 5 và 52\n",
    "\n",
    "Sau khi lọc số, dùng các hàm trên để kiểm tra và thực hiện như sau:\n",
    "\n",
    "Cho biến S\n",
    "\n",
    "- Nếu số đó là số nguyên tố, ta thực hiện S += số đó\n",
    "- Nếu số đó là số hoàn hảo, ta thực hiện S -= số đó\n",
    "- Nếu số đó là số chính phương, ta thực hiện S /= số đó\n",
    "- Nếu đó là số Armstrong ta cho S = 0\n",
    "\n",
    "Hãy tính và in S"
   ]
  },
  {
   "cell_type": "code",
   "execution_count": 7,
   "id": "0b699e33",
   "metadata": {},
   "outputs": [
    {
     "name": "stdout",
     "output_type": "stream",
     "text": [
      "Nhập vào một chuỗi: AB25SDc5DSjjh52\n",
      "chinh phuong 25\n",
      "nguyen to 5\n",
      "chinh phuong 52\n",
      "S = 0.09615384615384616\n"
     ]
    }
   ],
   "source": [
    "# số nguyên tố\n",
    "def so_nguyen_to(n):\n",
    "    check = True\n",
    "    if int(n) < 2:\n",
    "        return False\n",
    "    else:\n",
    "        for i in range(2,int(n)):\n",
    "            if int(n) % i == 0:\n",
    "                check = False\n",
    "                break\n",
    "    return check\n",
    "\n",
    "# số amstrong 153 = 1^3 + 5^3 + 3^3\n",
    "def so_amstrong(n):\n",
    "    length = len(n)\n",
    "    x = int(n)\n",
    "    s = 0\n",
    "    for i in range(length):\n",
    "        a = x % 10\n",
    "        s += a ** length\n",
    "        x = x // 10\n",
    "    if s == int(n):\n",
    "        return True\n",
    "    else:\n",
    "        return False\n",
    "\n",
    "# Số hoàn hảo hay còn gọi là số hoàn thiện, đó là một số nguyên dương lớn hơn 0 và \n",
    "# có tổng các ước (ngoại trừ số đó) bằng chính nó.\n",
    "def so_hoan_hao(n):\n",
    "    if int(n) <= 0:\n",
    "        return False\n",
    "    else:\n",
    "        s = 0\n",
    "        for i in range(1,int(n)):\n",
    "            if int(n) % i == 0:\n",
    "                s += i\n",
    "        if s == int(n):\n",
    "            return True\n",
    "        else:\n",
    "            return False\n",
    "\n",
    "# số chính phương có căn bậc 2 là một số tự nhiên \n",
    "def so_chinh_phuong(n):\n",
    "    if int(n) <= 0:\n",
    "        return False\n",
    "    else:\n",
    "        x = int(int(n) ** 0.5)\n",
    "        if x % 1 == 0:\n",
    "            return True\n",
    "        else:\n",
    "            return False\n",
    "\n",
    "# AB25SDc5DSjjh52\n",
    "a = input('Nhập vào một chuỗi: ')\n",
    "a += ','\n",
    "S = 0\n",
    "kt = ''\n",
    "for i in a:\n",
    "    if i.isnumeric():\n",
    "        kt += i\n",
    "    else:\n",
    "        if kt != '':\n",
    "            if so_nguyen_to(kt):\n",
    "                S += int(kt)\n",
    "            elif so_hoan_hao(kt):\n",
    "                S -+ int(kt)\n",
    "            elif so_chinh_phuong(kt):\n",
    "                S /= int(kt)\n",
    "            elif so_amstrong(kt):\n",
    "                S = 0\n",
    "            kt = ''\n",
    "print('S =',S)"
   ]
  },
  {
   "cell_type": "code",
   "execution_count": 2,
   "id": "40ac15ec",
   "metadata": {},
   "outputs": [],
   "source": []
  }
 ],
 "metadata": {
  "kernelspec": {
   "display_name": "Python 3 (ipykernel)",
   "language": "python",
   "name": "python3"
  },
  "language_info": {
   "codemirror_mode": {
    "name": "ipython",
    "version": 3
   },
   "file_extension": ".py",
   "mimetype": "text/x-python",
   "name": "python",
   "nbconvert_exporter": "python",
   "pygments_lexer": "ipython3",
   "version": "3.10.4"
  }
 },
 "nbformat": 4,
 "nbformat_minor": 5
}
