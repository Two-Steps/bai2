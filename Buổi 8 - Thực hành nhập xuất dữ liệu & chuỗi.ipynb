{
 "cells": [
  {
   "cell_type": "markdown",
   "id": "5bc93fb0",
   "metadata": {},
   "source": [
    "# Thực hành nhập xuất dữ liệu & chuỗi\n",
    "\n",
    "### Bài tập tra cứu lệnh\n",
    "\n",
    "Nhập vào một chuỗi, kiểm tra xem chuỗi đó có ký tự nào là chữ in hoa hay không, nếu có thì in True, không có thì in False"
   ]
  },
  {
   "cell_type": "code",
   "execution_count": 1,
   "id": "4b3df2ba",
   "metadata": {},
   "outputs": [
    {
     "name": "stdout",
     "output_type": "stream",
     "text": [
      "Hãy nhập vào chuỗi muốn kiểm tra: ssfasfsa\n",
      "False\n"
     ]
    }
   ],
   "source": [
    "s = input('Hãy nhập vào chuỗi muốn kiểm tra: ')\n",
    "check = 0\n",
    "lenghtOfString = len(s)\n",
    "for x in range(0,lenghtOfString):\n",
    "    i = s[x].upper()\n",
    "    if s[x] != ' ':\n",
    "        if(i == s[x]):\n",
    "            check += 1\n",
    "        else:\n",
    "            check += 0\n",
    "        \n",
    "if check == 0:\n",
    "    print('False')\n",
    "else: \n",
    "    print('True')"
   ]
  },
  {
   "cell_type": "code",
   "execution_count": 1,
   "id": "c4bd82d1",
   "metadata": {},
   "outputs": [
    {
     "name": "stdout",
     "output_type": "stream",
     "text": [
      "Hãy nhập vào chuỗi muốn kiểm tra: this iS text skjfsljflsaj sf\n",
      "True\n"
     ]
    }
   ],
   "source": [
    "# sử dụng hàm có sẵn isupper()\n",
    "s = input('Hãy nhập vào chuỗi muốn kiểm tra: ')\n",
    "check = 0\n",
    "for x in s:\n",
    "    if x.isupper():\n",
    "        check += 1\n",
    "    else:\n",
    "        check += 0\n",
    "        \n",
    "if check == 0:\n",
    "    print('False')\n",
    "else: \n",
    "    print('True')"
   ]
  },
  {
   "cell_type": "markdown",
   "id": "e14eae7c",
   "metadata": {},
   "source": [
    "Nhập vào một chuỗi, kiểm tra xem chuỗi đó có ký tự nào là chữ in thường hay không, nếu có thì in True, không có thì in False"
   ]
  },
  {
   "cell_type": "code",
   "execution_count": null,
   "id": "ab00180c",
   "metadata": {},
   "outputs": [],
   "source": [
    "s = input('Hãy nhập vào chuỗi muốn kiểm tra: ')\n",
    "check = 0\n",
    "lenghtOfString = len(s)\n",
    "for x in range(0,lenghtOfString):\n",
    "    i = s[x].upper()\n",
    "    if s[x] != ' ':\n",
    "        if(i == s[x]):\n",
    "            check += 1\n",
    "        else:\n",
    "            check += 0\n",
    "        \n",
    "if check == 0:\n",
    "    print('True')\n",
    "else: \n",
    "    print('False')"
   ]
  },
  {
   "cell_type": "code",
   "execution_count": 21,
   "id": "dcd0197e",
   "metadata": {},
   "outputs": [
    {
     "name": "stdout",
     "output_type": "stream",
     "text": [
      "Hãy nhập vào chuỗi muốn kiểm tra: TJDJD  DHASDAO\n",
      "False\n"
     ]
    }
   ],
   "source": [
    "# sử dụng hàm có sẵn islower()\n",
    "s = input('Hãy nhập vào chuỗi muốn kiểm tra: ')\n",
    "check = 0\n",
    "for x in s:\n",
    "    if x.islower():\n",
    "        check += 1\n",
    "    else:\n",
    "        check += 0\n",
    "        \n",
    "if check == 0:\n",
    "    print('False')\n",
    "else: \n",
    "    print('True')"
   ]
  },
  {
   "cell_type": "markdown",
   "id": "eab86ecf",
   "metadata": {},
   "source": [
    "Nhập vào một chuỗi a và chuỗi b, tìm vị trí đầu tiên xuất hiện chuỗi b trong chuỗi a"
   ]
  },
  {
   "cell_type": "code",
   "execution_count": 34,
   "id": "051eb4af",
   "metadata": {},
   "outputs": [
    {
     "name": "stdout",
     "output_type": "stream",
     "text": [
      "Nhập vào chuỗi a: this is me\n",
      "Nhập vào chuỗi b: m\n",
      "Vị trí đầu tiên xuất hiện của chuỗi b trong chuỗi a là:  9\n"
     ]
    }
   ],
   "source": [
    "a = input('Nhập vào chuỗi a: ')\n",
    "b = input('Nhập vào chuỗi b: ')\n",
    "location = a.find(b)\n",
    "if location == -1:\n",
    "    print('Chuỗi b không có mặt trong chuỗi a')\n",
    "else:\n",
    "    print('Vị trí đầu tiên xuất hiện của chuỗi b trong chuỗi a là:',location + 1)"
   ]
  },
  {
   "cell_type": "markdown",
   "id": "9239bc4e",
   "metadata": {},
   "source": [
    "Nhập vào một chuỗi a, hãy xóa từ đầu tiên trong chuỗi a, rồi in ra màn hình"
   ]
  },
  {
   "cell_type": "code",
   "execution_count": 36,
   "id": "90967cd9",
   "metadata": {},
   "outputs": [
    {
     "name": "stdout",
     "output_type": "stream",
     "text": [
      "Nhập vào chuỗi a: là lá la la\n",
      "Chuỗi a sau khi xóa từ đầu tiên là:  à lá la la\n"
     ]
    }
   ],
   "source": [
    "a = input('Nhập vào chuỗi a: ')\n",
    "b = a[1:]\n",
    "print('Chuỗi a sau khi ký tự đầu tiên là:',b)"
   ]
  },
  {
   "cell_type": "code",
   "execution_count": 2,
   "id": "f2888068",
   "metadata": {},
   "outputs": [
    {
     "name": "stdout",
     "output_type": "stream",
     "text": [
      "Nhập vào chuỗi a: this is me\n",
      "Chuỗi a sau khi xóa từ đầu tiên là: is me\n"
     ]
    }
   ],
   "source": [
    "a = input('Nhập vào chuỗi a: ')\n",
    "b = a.find(' ')\n",
    "c = a[(b+1):]\n",
    "print('Chuỗi a sau khi xóa từ đầu tiên là:',c)"
   ]
  },
  {
   "cell_type": "markdown",
   "id": "05b74fb4",
   "metadata": {},
   "source": [
    "### Bài 1\n",
    "\n",
    "Nhập vào một chuỗi, đếm xem có bao nhiêu từ trong chuỗi kết thúc bằng chữ n"
   ]
  },
  {
   "cell_type": "code",
   "execution_count": 16,
   "id": "d126675c",
   "metadata": {},
   "outputs": [
    {
     "name": "stdout",
     "output_type": "stream",
     "text": [
      "Nhập vào chuỗi cần kiểm tra: hoa lan ban day ngoai cho\n",
      "Trong chuỗi có 2 từ kết thúc bằng chữ n\n"
     ]
    }
   ],
   "source": [
    "s = input('Nhập vào chuỗi cần kiểm tra: ')\n",
    "s2 = s.split(' ')\n",
    "count = 0\n",
    "for x in s2:\n",
    "    if x[-1] == 'n':\n",
    "        count += 1\n",
    "print('Trong chuỗi có',count,'từ kết thúc bằng chữ n')"
   ]
  },
  {
   "cell_type": "markdown",
   "id": "53a78d35",
   "metadata": {},
   "source": [
    "### Bài 2\n",
    "\n",
    "Nhập vào một chuỗi, kiểm tra xem chuỗi đó có ký tự hoa hoặc ký tự thường hay không."
   ]
  },
  {
   "cell_type": "code",
   "execution_count": 22,
   "id": "f5be8c39",
   "metadata": {},
   "outputs": [
    {
     "name": "stdout",
     "output_type": "stream",
     "text": [
      "Nhập vào chuỗi cần kiểm tra: @#@##$%#$^239235\n",
      "Chuỗi không có ký tự hoa hoặc thường\n"
     ]
    }
   ],
   "source": [
    "s = input('Nhập vào chuỗi cần kiểm tra: ')\n",
    "count = 0\n",
    "for x in s:\n",
    "    if x.islower() or x.isupper():\n",
    "        count += 1\n",
    "if count != 0:\n",
    "    print('Chuỗi có ký tự hoa hoặc thường')\n",
    "else:\n",
    "    print('Chuỗi không có ký tự hoa hoặc thường')"
   ]
  },
  {
   "cell_type": "markdown",
   "id": "64ca662e",
   "metadata": {},
   "source": [
    "### Bài 3\n",
    "\n",
    "Nhập vào một chuỗi, kiểm tra tính đối xứng của chuỗi đó"
   ]
  },
  {
   "cell_type": "code",
   "execution_count": 51,
   "id": "749f4136",
   "metadata": {},
   "outputs": [
    {
     "name": "stdout",
     "output_type": "stream",
     "text": [
      "Chuỗi đối xứng\n"
     ]
    }
   ],
   "source": [
    "s = input('Nhập vào chuỗi cần kiểm tra: ')\n",
    "# s3 = s[::-1]\n",
    "# chỉ cần so sánh chuỗi với đảo ngược của nó thôi ba ơi :)) vẽ ra lắm thế tôi ơi\n",
    "length = len(s)\n",
    "if length % 2 == 0:\n",
    "    s1 = s[:int(length/2)]\n",
    "    s2 = s[int(length/2):]\n",
    "else: \n",
    "    length = length -1\n",
    "    s1 = s[:int(length/2)]\n",
    "    s2 = s[int(length/2 + 1):]\n",
    "s3 = ''\n",
    "for x in s2:\n",
    "    s3 = x + s3\n",
    "# print(s1,s2,s3)\n",
    "if s3 == s1:\n",
    "    print('Chuỗi đối xứng')\n",
    "else:\n",
    "    print('Chuỗi không đối xứng')"
   ]
  },
  {
   "cell_type": "markdown",
   "id": "85dd8fef",
   "metadata": {},
   "source": [
    "### Bài 4\n",
    "\n",
    "Nhập vào một chuỗi, in ra các ký tự trong chuỗi và nếu là ký tự hoa thì in kèm True, ký tự thường thì in kèm False"
   ]
  },
  {
   "cell_type": "code",
   "execution_count": 3,
   "id": "0d099247",
   "metadata": {},
   "outputs": [
    {
     "name": "stdout",
     "output_type": "stream",
     "text": [
      "Nhập vào chuỗi cần in: thisIsmyTExt\n",
      "t False\n",
      "h False\n",
      "i False\n",
      "s False\n",
      "I True\n",
      "s False\n",
      "m False\n",
      "y False\n",
      "T True\n",
      "E True\n",
      "x False\n",
      "t False\n"
     ]
    }
   ],
   "source": [
    "s = input('Nhập vào chuỗi cần in: ')\n",
    "s2 = s.replace(' ','')\n",
    "for x in s:\n",
    "    print(x, end = ' ')\n",
    "    if x.isupper():\n",
    "        print('True')\n",
    "    else: \n",
    "        print('False')"
   ]
  },
  {
   "cell_type": "markdown",
   "id": "1373dc74",
   "metadata": {},
   "source": [
    "### Bài 5\n",
    "\n",
    "Nhập vào một chuỗi, tìm các ký tự chỉ xuất hiện một lần trong chuỗi (nếu xuất hiện 1 lần in true, xuất hiện nhiều lần in false)\n",
    "\n",
    "Ví dụ:\n",
    "\n",
    "Nhập chuỗi: \"ABAbc\"\n",
    "\n",
    "In:\n",
    "\n",
    "A: False\n",
    "\n",
    "B: True\n",
    "\n",
    "A: False\n",
    "\n",
    "b: True\n",
    "\n",
    "c: True"
   ]
  },
  {
   "cell_type": "code",
   "execution_count": 28,
   "id": "a93bc53d",
   "metadata": {},
   "outputs": [
    {
     "name": "stdout",
     "output_type": "stream",
     "text": [
      "Nhập vào chuỗi cần in: this isabc\n",
      "t:True\n",
      "h:True\n",
      "i:False\n",
      "s:False\n",
      " :True\n",
      "i:False\n",
      "s:False\n",
      "a:True\n",
      "b:True\n",
      "c:True\n"
     ]
    }
   ],
   "source": [
    "s = input('Nhập vào chuỗi: ')\n",
    "s2 = s.replace(' ','')\n",
    "for x in s:\n",
    "    print(x, end = ':')\n",
    "    if s.count(x) == 1:\n",
    "        print('True')\n",
    "    else: \n",
    "        print('False')"
   ]
  },
  {
   "cell_type": "markdown",
   "id": "69bebf4c",
   "metadata": {},
   "source": [
    "### Bài 6\n",
    "\n",
    "Nhập vào một chuỗi, kiểm tra trong chuỗi có con số hay không, nếu có in True, không có in False"
   ]
  },
  {
   "cell_type": "code",
   "execution_count": 8,
   "id": "1b4eab4f",
   "metadata": {},
   "outputs": [
    {
     "name": "stdout",
     "output_type": "stream",
     "text": [
      "1 True\n",
      "2 True\n"
     ]
    }
   ],
   "source": [
    "#s = input('Nhập vào chuỗi cần kiểm tra: ')\n",
    "# kiểm tra của chuỗi là được mà đâu cần tách từng ký tự @@ đọc document về hàm kiểu gì đấy?\n",
    "s2 = 'this is chuoi 1.2 chuoi'\n",
    "for x in s2:\n",
    "    if x.isdigit():\n",
    "        print(x,'True')"
   ]
  },
  {
   "cell_type": "code",
   "execution_count": 13,
   "id": "b58d83ac",
   "metadata": {},
   "outputs": [
    {
     "name": "stdout",
     "output_type": "stream",
     "text": [
      "Nhập vào chuỗi cần kiểm tra: skdfjhskd slfds f sjdf@#$^% SDF#@\n",
      "False\n"
     ]
    }
   ],
   "source": [
    "s = input('Nhập vào chuỗi cần kiểm tra: ')\n",
    "check = 0\n",
    "for x in s:\n",
    "    if x.isdigit():\n",
    "        check += 1\n",
    "if check == 0:\n",
    "    print('False')\n",
    "else:\n",
    "    print('True')"
   ]
  },
  {
   "cell_type": "markdown",
   "id": "1e51403c",
   "metadata": {},
   "source": [
    "### Bài 7\n",
    "\n",
    "Nhập vào một chuỗi, tách những con số có trong chuỗi ra rồi tính tổng của chúng\n",
    "\n",
    "In tổng lên màn hình"
   ]
  },
  {
   "cell_type": "code",
   "execution_count": 20,
   "id": "a34e349d",
   "metadata": {},
   "outputs": [
    {
     "name": "stdout",
     "output_type": "stream",
     "text": [
      "Nhập vào chuỗi cần kiểm tra: skdfjhskd slfds f sjdf@#$^% SDF#@ 1.2 @@#$#@% sfjsldf\n",
      "Tổng của các con số có trong chuỗi:  3\n"
     ]
    }
   ],
   "source": [
    "s = input('Nhập vào chuỗi cần kiểm tra: ')\n",
    "count = 0\n",
    "for x in s:\n",
    "    if x.isdigit():\n",
    "        count += int(x)\n",
    "print('Tổng của các con số có trong chuỗi: ',count)"
   ]
  },
  {
   "cell_type": "markdown",
   "id": "e951779d",
   "metadata": {},
   "source": [
    "### Bài 8\n",
    "\n",
    "Nhập vào một chuỗi, đảo ngược chuỗi đã nhập rồi in ra màn hình"
   ]
  },
  {
   "cell_type": "code",
   "execution_count": 21,
   "id": "9305f0f1",
   "metadata": {},
   "outputs": [
    {
     "name": "stdout",
     "output_type": "stream",
     "text": [
      "Nhập vào chuỗi cần kiểm tra: this is my string\n",
      "Chuỗi sau khi đảo ngược là:  gnirts ym si siht\n"
     ]
    }
   ],
   "source": [
    "s = input('Nhập vào chuỗi cần kiểm tra: ')\n",
    "s2 = ''\n",
    "# s2 = s[::-1]\n",
    "for x in s:\n",
    "    s2 = x + s2\n",
    "print('Chuỗi sau khi đảo ngược là: ',s2)"
   ]
  },
  {
   "cell_type": "markdown",
   "id": "04194b5c",
   "metadata": {},
   "source": [
    "### Bài 9\n",
    "\n",
    "Nhập vào một chuỗi, kiểm tra xem mỗi từ trong chuỗi có được viết hoa chữ cái đầu hay không, nếu tất cả đều được viết hoa thì in ra True, còn không thì in ra False\n",
    "\n",
    "Trong trường hợp là False, hãy viết hoa tất cả các chữ cái đầu của mỗi từ rồi in lên màn hình\n",
    "\n",
    "Cách làm thông thường:"
   ]
  },
  {
   "cell_type": "code",
   "execution_count": 9,
   "id": "9f947c7d",
   "metadata": {},
   "outputs": [
    {
     "name": "stdout",
     "output_type": "stream",
     "text": [
      "Nhập vào chuỗi cần kiểm tra: This so Beautyful\n",
      "False\n",
      "This So Beautyful \n"
     ]
    }
   ],
   "source": [
    "s = input('Nhập vào chuỗi cần kiểm tra: ')\n",
    "s2 = s.split()\n",
    "check = 0\n",
    "result = ''\n",
    "for x in s2:\n",
    "    if x[0].isupper():\n",
    "        check += 0\n",
    "        result += x + ' '\n",
    "    else:\n",
    "        check += 1\n",
    "        x = x.replace(x[0],x[0].upper())\n",
    "        result += x + ' '\n",
    "if check == 0:\n",
    "    print('True')\n",
    "else:\n",
    "    print('False',result, sep = '\\n')"
   ]
  },
  {
   "cell_type": "markdown",
   "id": "f43e32af",
   "metadata": {},
   "source": [
    "Cách sử dụng lệnh có sẵn:"
   ]
  },
  {
   "cell_type": "code",
   "execution_count": 10,
   "id": "714f1412",
   "metadata": {},
   "outputs": [
    {
     "name": "stdout",
     "output_type": "stream",
     "text": [
      "Nhập vào chuỗi cần kiểm tra: This so Beautyful\n",
      "False\n",
      "This So Beautyful\n"
     ]
    }
   ],
   "source": [
    "# sử dụng hàm istitle() để kiểm tra, hàm title() để viết lại\n",
    "s = input('Nhập vào chuỗi cần kiểm tra: ')\n",
    "if s.istitle():\n",
    "    print('True')\n",
    "else:\n",
    "    print('False')\n",
    "    s = s.title()\n",
    "    print(s)"
   ]
  }
 ],
 "metadata": {
  "kernelspec": {
   "display_name": "Python 3 (ipykernel)",
   "language": "python",
   "name": "python3"
  },
  "language_info": {
   "codemirror_mode": {
    "name": "ipython",
    "version": 3
   },
   "file_extension": ".py",
   "mimetype": "text/x-python",
   "name": "python",
   "nbconvert_exporter": "python",
   "pygments_lexer": "ipython3",
   "version": "3.10.4"
  }
 },
 "nbformat": 4,
 "nbformat_minor": 5
}
